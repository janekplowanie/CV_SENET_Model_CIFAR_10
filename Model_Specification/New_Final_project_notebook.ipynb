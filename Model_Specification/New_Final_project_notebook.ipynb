{
 "cells": [
  {
   "cell_type": "code",
   "outputs": [
    {
     "output_type": "stream",
     "name": "stdout",
     "text": [
      "Mounted at /content/gdrive\n"
     ]
    }
   ],
   "source": [
    "# When using Collab uncomment the code below\n",
    "# from google.colab import drive\n",
    "# drive.mount('/content/gdrive', force_remount=True)\n",
    "# import sys\n",
    "# sys.path.append('/content/gdrive/MyDrive/Colab Notebooks/Neural Networks Project')"
   ],
   "metadata": {
    "colab": {
     "base_uri": "https://localhost:8080/"
    },
    "id": "164a9167615b93b1",
    "outputId": "8b9c361f-77df-400f-ee33-8dab5c8956e3"
   },
   "id": "164a9167615b93b1",
   "execution_count": null
  },
  {
   "cell_type": "code",
   "outputs": [],
   "source": [
    "import torch\n",
    "from torchvision import datasets, transforms\n",
    "from torch import nn\n",
    "import torch.nn.functional as F\n",
    "import my_utils as mu\n",
    "import matplotlib.pyplot as plt\n",
    "import numpy as np\n",
    "from tqdm import tqdm\n",
    "import matplotlib.pyplot as plt"
   ],
   "metadata": {
    "ExecuteTime": {
     "end_time": "2024-03-29T17:27:43.364185Z",
     "start_time": "2024-03-29T17:27:43.357494Z"
    },
    "id": "bcbf69baabe3bfcd"
   },
   "id": "bcbf69baabe3bfcd",
   "execution_count": null
  },
  {
   "cell_type": "code",
   "outputs": [],
   "source": [
    "data_path = './Data'\n",
    "batch_size = 128  # 128"
   ],
   "metadata": {
    "ExecuteTime": {
     "end_time": "2024-03-29T17:27:43.751784Z",
     "start_time": "2024-03-29T17:27:43.749904Z"
    },
    "id": "929ef1da1df9813a"
   },
   "id": "929ef1da1df9813a",
   "execution_count": null
  },
  {
   "cell_type": "code",
   "outputs": [
    {
     "output_type": "stream",
     "name": "stdout",
     "text": [
      "Downloading https://www.cs.toronto.edu/~kriz/cifar-10-python.tar.gz to ./Data/cifar-10-python.tar.gz\n"
     ]
    },
    {
     "output_type": "stream",
     "name": "stderr",
     "text": [
      "100%|██████████| 170498071/170498071 [00:04<00:00, 42504568.09it/s]\n"
     ]
    },
    {
     "output_type": "stream",
     "name": "stdout",
     "text": [
      "Extracting ./Data/cifar-10-python.tar.gz to ./Data\n",
      "Files already downloaded and verified\n"
     ]
    }
   ],
   "source": [
    "transform = transforms.Compose([transforms.ToTensor()])\n",
    "\n",
    "# Load training and test datasets\n",
    "train_dataset = datasets.CIFAR10(root=data_path, train=True, download=True, transform=transform)\n",
    "test_dataset = datasets.CIFAR10(root=data_path, train=False, download=True, transform=transform)\n",
    "\n",
    "# Create data loaders\n",
    "train_loader = torch.utils.data.DataLoader(train_dataset, batch_size=batch_size, shuffle=True, num_workers=2)\n",
    "test_loader = torch.utils.data.DataLoader(test_dataset, batch_size=batch_size, shuffle=False, num_workers=2)"
   ],
   "metadata": {
    "ExecuteTime": {
     "end_time": "2024-03-29T17:27:45.846176Z",
     "start_time": "2024-03-29T17:27:44.172079Z"
    },
    "colab": {
     "base_uri": "https://localhost:8080/"
    },
    "id": "c50084f8c0f6037a",
    "outputId": "33cd7a41-eec5-413d-a1ff-bb6c10c06c58"
   },
   "id": "c50084f8c0f6037a",
   "execution_count": null
  },
  {
   "cell_type": "markdown",
   "source": [
    "**<=====================================================================>**\n",
    "# My current approach\n",
    "**<=====================================================================>**"
   ],
   "metadata": {
    "id": "eiAwr2IJ5ZXo"
   },
   "id": "eiAwr2IJ5ZXo"
  },
  {
   "cell_type": "code",
   "source": [
    "def evaluate_model(model, data_loader, device):\n",
    "  \"\"\"\n",
    "  Evaluates the model on the given data loader.\n",
    "\n",
    "  Args:\n",
    "      model (nn.Module): The model to evaluate.\n",
    "      data_loader (DataLoader): The data loader for the data (test or validation).\n",
    "      device (torch.device): The device to use for evaluation (e.g., \"cuda\" for GPU).\n",
    "\n",
    "  Returns:\n",
    "      float: The accuracy of the model on the data.\n",
    "  \"\"\"\n",
    "\n",
    "  model.eval()  # Set model to evaluation mode\n",
    "  correct = 0\n",
    "  total = 0\n",
    "\n",
    "  with torch.no_grad():\n",
    "    for images, labels in data_loader:\n",
    "      images, labels = images.to(device), labels.to(device)\n",
    "      outputs = model(images)\n",
    "      _, predicted = torch.max(outputs.data, 1)\n",
    "      total += labels.size(0)\n",
    "      correct += (predicted == labels).sum().item()\n",
    "\n",
    "  return correct / total"
   ],
   "metadata": {
    "id": "ArRBY3VLoNx1"
   },
   "id": "ArRBY3VLoNx1",
   "execution_count": null,
   "outputs": []
  },
  {
   "cell_type": "code",
   "source": [
    "def train_model(model, train_loader, test_loader, loss_fn, num_epochs, optimizer, device):\n",
    "  model.to(device)\n",
    "  train_loss_history = []\n",
    "  train_acc_history = []\n",
    "  test_acc_history = []\n",
    "\n",
    "  for epoch in range(num_epochs):\n",
    "    print(f\"\\nEpoch: {epoch+1}/{num_epochs}\")\n",
    "\n",
    "    # Training Loop\n",
    "    model.train()\n",
    "    train_loss = 0.0\n",
    "    num_batches = 0\n",
    "    correct = 0\n",
    "    total = 0\n",
    "\n",
    "    with tqdm(train_loader, unit=\"batch\") as pbar:\n",
    "      for images, labels in pbar:\n",
    "        images, labels = images.to(device), labels.to(device)\n",
    "\n",
    "        # Forward Pass\n",
    "        outputs = model(images)\n",
    "        loss = loss_fn(outputs, labels)\n",
    "\n",
    "        # Backward Pass and Update\n",
    "        optimizer.zero_grad()\n",
    "        loss.backward()\n",
    "        optimizer.step()\n",
    "\n",
    "        train_loss += loss.item()\n",
    "        num_batches += 1\n",
    "\n",
    "        # Calculate training accuracy within the loop\n",
    "        _, predicted = torch.max(outputs.data, 1)\n",
    "        total += labels.size(0)\n",
    "        correct += (predicted == labels).sum().item()\n",
    "\n",
    "        pbar.set_postfix_str(f\"Loss: {train_loss/num_batches:.4f}\")\n",
    "\n",
    "    train_loss_history.append(train_loss/num_batches)\n",
    "    train_acc_history.append(correct / total)\n",
    "\n",
    "    # Evaluation (optional)\n",
    "    test_acc = evaluate_model(model, test_loader, device)\n",
    "    test_acc_history.append(test_acc)\n",
    "    print(f\"Test Accuracy: {test_acc:.4f}\")\n",
    "\n",
    "  # Plot Train Loss, Train Accuracy and Test Accuracy\n",
    "  plt.figure(figsize=(7, 5))\n",
    "  plt.plot(train_loss_history, label=\"Train Loss\")\n",
    "  plt.plot(train_acc_history, label=\"Train Accuracy\")\n",
    "  plt.plot(test_acc_history, label=\"Test Accuracy\")\n",
    "  plt.xlabel(\"Epoch\")\n",
    "  plt.ylabel(\"Loss/Accuracy\")  # Adjusted label for combined plot\n",
    "  plt.title(\"Training Progress\")\n",
    "  plt.legend()\n",
    "  plt.grid(True)\n",
    "  plt.show()\n",
    "\n",
    "  return train_loss_history, test_acc_history"
   ],
   "metadata": {
    "id": "E8SdPy-sJWve"
   },
   "id": "E8SdPy-sJWve",
   "execution_count": null,
   "outputs": []
  },
  {
   "cell_type": "markdown",
   "source": [
    "## Block Structure\n",
    "![\"block structure\"](/Users/janrosek/Desktop/All Folders/Entertainment/Photos/screens/Screenshot 2024-04-07 at 19.08.15 copy.png)"
   ],
   "metadata": {
    "id": "ea5FRDs6WuAZ"
   },
   "id": "ea5FRDs6WuAZ"
  },
  {
   "cell_type": "markdown",
   "source": [
    "## The Model"
   ],
   "metadata": {
    "id": "0tN2aOVvyQjf"
   },
   "id": "0tN2aOVvyQjf"
  },
  {
   "cell_type": "code",
   "source": [
    "class CNN_Block(nn.Module):\n",
    "    def __init__(self, input_channels, output_channels, n_convs):\n",
    "        super(CNN_Block, self).__init__()\n",
    "        self.input_channels = input_channels\n",
    "        self.output_channels = output_channels\n",
    "        self.n_convs = n_convs\n",
    "\n",
    "        self.spatial_avg_pool = nn.AdaptiveAvgPool2d((1, 1))\n",
    "\n",
    "        self.linear_a = nn.Linear(input_channels, n_convs)\n",
    "\n",
    "        self.conv_layers = nn.ModuleList([nn.Conv2d(input_channels, output_channels, kernel_size=3, padding=1) for conv in range(n_convs)])\n",
    "\n",
    "        self.relu = nn.ReLU(inplace=True)\n",
    "        self.flatten = nn.Flatten()\n",
    "\n",
    "\n",
    "    def forward(self, x):\n",
    "        a = self.spatial_avg_pool(x)\n",
    "        a = self.flatten(a)\n",
    "\n",
    "        a = self.linear_a(a)\n",
    "        a = self.relu(a)\n",
    "\n",
    "        out = []\n",
    "        for i in range(self.n_convs):\n",
    "            out_i = self.conv_layers[i](x)  # Apply each conv to original data\n",
    "\n",
    "            out_i = self.relu(out_i)\n",
    "            out.append(out_i * a[0, i])\n",
    "\n",
    "        out_final = torch.sum(torch.stack(out), dim=0)  # Combine outputs\n",
    "        return out_final\n"
   ],
   "metadata": {
    "id": "oKqdvSF0Wmti"
   },
   "id": "oKqdvSF0Wmti",
   "execution_count": null,
   "outputs": []
  },
  {
   "cell_type": "code",
   "source": [
    "class SE_NET(nn.Module):\n",
    "    def __init__(self, block_configs, channel_configs, n_classes=10):\n",
    "        super(SE_NET, self).__init__()\n",
    "        self.n_classes = n_classes\n",
    "\n",
    "        # List to store the CNN blocks\n",
    "        self.conv_blocks = nn.ModuleList([])\n",
    "\n",
    "        # Input channels for the first block\n",
    "        in_channels = 3\n",
    "\n",
    "        # Create CNN blocks based on configurations\n",
    "        for i, (num_convs, out_channels) in enumerate(zip(block_configs, channel_configs)):\n",
    "            self.conv_blocks.append(CNN_Block(in_channels, out_channels, num_convs))\n",
    "            in_channels = out_channels\n",
    "\n",
    "        hidden_layer = int(in_channels/2)\n",
    "\n",
    "        self.spatial_avg_pool = nn.AdaptiveAvgPool2d((1, 1))\n",
    "\n",
    "        self.fc1 = nn.Linear(in_channels, int(in_channels/2))\n",
    "        self.fc2 = nn.Linear(int(in_channels/2), n_classes)\n",
    "        self.softmax = nn.Softmax(dim=1)\n",
    "        self.flatten = nn.Flatten()\n",
    "        self.relu = nn.ReLU(inplace=True)\n",
    "\n",
    "    def forward(self, x):\n",
    "        for block in self.conv_blocks:\n",
    "            x = block(x)\n",
    "\n",
    "        out = self.spatial_avg_pool(x)\n",
    "        out = self.flatten(out)\n",
    "\n",
    "        out = self.fc1(out)\n",
    "        out = self.relu(out)\n",
    "        out = self.fc2(out)\n",
    "\n",
    "        out = self.softmax(out)\n",
    "        return out\n"
   ],
   "metadata": {
    "id": "Fm7wAApAaja4"
   },
   "id": "Fm7wAApAaja4",
   "execution_count": null,
   "outputs": []
  },
  {
   "cell_type": "code",
   "outputs": [],
   "source": [
    "lr_01, lr_001, num_epochs_30, num_epochs_100  = 0.01, 0.001, 30, 100\n",
    "loss_sn = nn.CrossEntropyLoss()"
   ],
   "metadata": {
    "ExecuteTime": {
     "end_time": "2024-03-29T17:38:48.401259Z",
     "start_time": "2024-03-29T17:38:48.398444Z"
    },
    "id": "dd47aef08b6d9ce2"
   },
   "id": "dd47aef08b6d9ce2",
   "execution_count": null
  },
  {
   "cell_type": "code",
   "source": [
    "device = torch.device('cuda' if torch.cuda.is_available() else 'cpu') #choose device: cpu or gpu\n",
    "print('Using device:', device)"
   ],
   "metadata": {
    "colab": {
     "base_uri": "https://localhost:8080/"
    },
    "id": "GkmaiEiVGKgc",
    "outputId": "2def27d9-f30f-4d6d-b720-f0435757ea0a"
   },
   "id": "GkmaiEiVGKgc",
   "execution_count": null,
   "outputs": [
    {
     "output_type": "stream",
     "name": "stdout",
     "text": [
      "Using device: cuda\n"
     ]
    }
   ]
  },
  {
   "cell_type": "markdown",
   "source": [
    "## My training function"
   ],
   "metadata": {
    "id": "644MiCBBkXHh"
   },
   "id": "644MiCBBkXHh"
  },
  {
   "cell_type": "markdown",
   "source": [
    "1. The more convolutions the better\n",
    "2. The more channels the better\n",
    "3. Adam optimizer is superior"
   ],
   "metadata": {
    "id": "bCitRcRJStJT"
   },
   "id": "bCitRcRJStJT"
  },
  {
   "cell_type": "markdown",
   "source": [
    "## model_4b_5_150"
   ],
   "metadata": {
    "id": "dZKUhLceIDUm"
   },
   "id": "dZKUhLceIDUm"
  },
  {
   "cell_type": "code",
   "source": [
    "model_4b_5_150 = SE_NET(block_configs=[5, 5, 5, 5], channel_configs=[10, 25, 50, 150]) # block_configs=[5, 5, 5, 5], channel_configs=[10, 40, 80, 160] 10, 25, 50, 100\n",
    "print(model_4b_5_150)"
   ],
   "metadata": {
    "id": "ZJtTaLYnhyPO"
   },
   "id": "ZJtTaLYnhyPO",
   "execution_count": null,
   "outputs": []
  },
  {
   "cell_type": "code",
   "source": [
    "# Adam\n",
    "optimizer_adam_001 = torch.optim.Adam(model_4b_5_150.parameters(), lr=lr_001)\n",
    "optimizer_adam_01 = torch.optim.Adam(model_4b_5_150.parameters(), lr=lr_01)\n",
    "# SDG\n",
    "optimizer_sg_001 = torch.optim.SGD(model_4b_5_150.parameters(), lr=lr_001)\n",
    "optimizer_sg_01 = torch.optim.SGD(model_4b_5_150.parameters(), lr=lr_01)"
   ],
   "metadata": {
    "id": "FCExX7kbLwo9"
   },
   "id": "FCExX7kbLwo9",
   "execution_count": null,
   "outputs": []
  },
  {
   "cell_type": "code",
   "source": [
    "train_model(model_4b_5_150, train_loader, test_loader, loss_sn, num_epochs_30, optimizer_adam_001, device)"
   ],
   "metadata": {
    "id": "_PdKlNNlMEn5"
   },
   "id": "_PdKlNNlMEn5",
   "execution_count": null,
   "outputs": []
  },
  {
   "cell_type": "code",
   "source": [
    "train_model(model_4b_5_150, train_loader, test_loader, loss_sn, num_epochs_30, optimizer_sg_001, device)"
   ],
   "metadata": {
    "id": "OX_-JfL_Ez-r"
   },
   "id": "OX_-JfL_Ez-r",
   "execution_count": null,
   "outputs": []
  },
  {
   "cell_type": "markdown",
   "source": [
    "## model_3b_3_50"
   ],
   "metadata": {
    "id": "vWTgESbEHzaQ"
   },
   "id": "vWTgESbEHzaQ"
  },
  {
   "cell_type": "code",
   "source": [
    "model_3b_3_50 = SE_NET(block_configs=[3, 3, 3], channel_configs=[10, 25, 50])"
   ],
   "metadata": {
    "id": "9n_5WdwwSm4o"
   },
   "id": "9n_5WdwwSm4o",
   "execution_count": null,
   "outputs": []
  },
  {
   "cell_type": "code",
   "source": [
    "# Adam\n",
    "optimizer_adam_001 = torch.optim.Adam(model_3b_3_50.parameters(), lr=lr_001)\n",
    "optimizer_adam_01 = torch.optim.Adam(model_3b_3_50.parameters(), lr=lr_01)\n",
    "# SDG\n",
    "optimizer_sg_001 = torch.optim.SGD(model_3b_3_50.parameters(), lr=lr_001)\n",
    "optimizer_sg_01 = torch.optim.SGD(model_3b_3_50.parameters(), lr=lr_01)"
   ],
   "metadata": {
    "id": "dQUX13-rMBEu"
   },
   "id": "dQUX13-rMBEu",
   "execution_count": null,
   "outputs": []
  },
  {
   "cell_type": "code",
   "source": [
    "train_model(model_3b_3_50, train_loader, test_loader, loss_sn, num_epochs_30, optimizer_adam_001, device) # FAIL"
   ],
   "metadata": {
    "id": "AR_9sPJXMLMN"
   },
   "id": "AR_9sPJXMLMN",
   "execution_count": null,
   "outputs": []
  },
  {
   "cell_type": "code",
   "source": [
    "train_model(model_3b_3_50, train_loader, test_loader, loss_sn, num_epochs_30, optimizer_adam_01, device) # FAIL"
   ],
   "metadata": {
    "id": "s6X-2EvgNxrl"
   },
   "id": "s6X-2EvgNxrl",
   "execution_count": null,
   "outputs": []
  },
  {
   "cell_type": "code",
   "source": [
    "train_model(model_3b_3_50, train_loader, test_loader, loss_sn, num_epochs_30, optimizer_sg_001, device) # FAIL"
   ],
   "metadata": {
    "id": "a4xA5MraMexO"
   },
   "id": "a4xA5MraMexO",
   "execution_count": null,
   "outputs": []
  },
  {
   "cell_type": "markdown",
   "source": [
    "## model_3b_5_50"
   ],
   "metadata": {
    "id": "K62j4MLeHyBJ"
   },
   "id": "K62j4MLeHyBJ"
  },
  {
   "cell_type": "code",
   "source": [
    "model_3b_5_50 = SE_NET(block_configs=[5, 5, 5], channel_configs=[10, 25, 50])"
   ],
   "metadata": {
    "id": "D-gYdlC5Hy98"
   },
   "id": "D-gYdlC5Hy98",
   "execution_count": null,
   "outputs": []
  },
  {
   "cell_type": "code",
   "source": [
    "# Adam\n",
    "optimizer_adam_001 = torch.optim.Adam(model_3b_5_50.parameters(), lr=lr_001)\n",
    "optimizer_adam_01 = torch.optim.Adam(model_3b_5_50.parameters(), lr=lr_01)\n",
    "# SDG\n",
    "optimizer_sg_001 = torch.optim.SGD(model_3b_5_50.parameters(), lr=lr_001)\n",
    "optimizer_sg_01 = torch.optim.SGD(model_3b_5_50.parameters(), lr=lr_01)"
   ],
   "metadata": {
    "id": "0uaUCvjAMoCt"
   },
   "execution_count": null,
   "outputs": [],
   "id": "0uaUCvjAMoCt"
  },
  {
   "cell_type": "code",
   "source": [
    "train_model(model_3b_5_50, train_loader, test_loader, loss_sn, num_epochs_30, optimizer_adam_001, device) # Success 45.48%"
   ],
   "metadata": {
    "id": "LAtNmO7AMoCu"
   },
   "execution_count": null,
   "outputs": [],
   "id": "LAtNmO7AMoCu"
  },
  {
   "cell_type": "code",
   "source": [
    "train_model(model_3b_5_50, train_loader, test_loader, loss_sn, num_epochs_30, optimizer_sg_001, device) # FAIL it doesn't learn"
   ],
   "metadata": {
    "id": "i9mEiQsgMoCu"
   },
   "execution_count": null,
   "outputs": [],
   "id": "i9mEiQsgMoCu"
  },
  {
   "cell_type": "markdown",
   "source": [
    "## model_3b_3_250"
   ],
   "metadata": {
    "id": "siwj8CBoH25a"
   },
   "id": "siwj8CBoH25a"
  },
  {
   "cell_type": "code",
   "source": [
    "model_3b_3_250 = SE_NET(block_configs=[3, 3, 3], channel_configs=[50, 100, 250])"
   ],
   "metadata": {
    "id": "sVch7ZeuH2c5"
   },
   "id": "sVch7ZeuH2c5",
   "execution_count": null,
   "outputs": []
  },
  {
   "cell_type": "code",
   "source": [
    "# Adam\n",
    "optimizer_adam_001 = torch.optim.Adam(model_3b_3_250.parameters(), lr=lr_001)\n",
    "optimizer_adam_01 = torch.optim.Adam(model_3b_3_250.parameters(), lr=lr_01)\n",
    "# SDG\n",
    "optimizer_sg_001 = torch.optim.SGD(model_3b_3_250.parameters(), lr=lr_001)\n",
    "optimizer_sg_01 = torch.optim.SGD(model_3b_3_250.parameters(), lr=lr_01)"
   ],
   "metadata": {
    "id": "L-XgpccRM4A_"
   },
   "execution_count": null,
   "outputs": [],
   "id": "L-XgpccRM4A_"
  },
  {
   "cell_type": "code",
   "source": [
    "train_model(model_3b_5_50, train_loader, test_loader, loss_sn, num_epochs_30, optimizer_adam_001, device) # FAIL"
   ],
   "metadata": {
    "id": "-ysLh5a8M4BA"
   },
   "execution_count": null,
   "outputs": [],
   "id": "-ysLh5a8M4BA"
  },
  {
   "cell_type": "code",
   "source": [
    "train_model(model_3b_5_50, train_loader, test_loader, loss_sn, num_epochs_30, optimizer_sg_001, device) # FAIL"
   ],
   "metadata": {
    "id": "K_JMr4R7M4BB"
   },
   "execution_count": null,
   "outputs": [],
   "id": "K_JMr4R7M4BB"
  },
  {
   "cell_type": "markdown",
   "source": [
    "## model_3b_5_250"
   ],
   "metadata": {
    "id": "UHvM38N9KWn4"
   },
   "id": "UHvM38N9KWn4"
  },
  {
   "cell_type": "code",
   "source": [
    "model_3b_5_250 = SE_NET(block_configs=[5, 5, 5], channel_configs=[50, 100, 250])"
   ],
   "metadata": {
    "id": "8a9BLqaIKaLp"
   },
   "id": "8a9BLqaIKaLp",
   "execution_count": null,
   "outputs": []
  },
  {
   "cell_type": "code",
   "source": [
    "# Adam\n",
    "optimizer_adam_001 = torch.optim.Adam(model_3b_5_250.parameters(), lr=lr_001)\n",
    "optimizer_adam_01 = torch.optim.Adam(model_3b_5_250.parameters(), lr=lr_01)\n",
    "# SDG\n",
    "optimizer_sg_001 = torch.optim.SGD(model_3b_5_250.parameters(), lr=lr_001)\n",
    "optimizer_sg_01 = torch.optim.SGD(model_3b_5_250.parameters(), lr=lr_01)"
   ],
   "metadata": {
    "id": "PodoVhLYQ99U"
   },
   "id": "PodoVhLYQ99U",
   "execution_count": null,
   "outputs": []
  },
  {
   "cell_type": "code",
   "source": [
    "train_model(model_3b_5_250, train_loader, test_loader, loss_sn, num_epochs_30, optimizer_adam_001, device) # Success 56.7%"
   ],
   "metadata": {
    "colab": {
     "base_uri": "https://localhost:8080/",
     "height": 1000
    },
    "id": "cUP9ZO1dQ_GL",
    "outputId": "74fdf48f-32ee-4322-9743-021523c65f45"
   },
   "id": "cUP9ZO1dQ_GL",
   "execution_count": null,
   "outputs": [
    {
     "output_type": "stream",
     "name": "stdout",
     "text": [
      "\n",
      "Epoch: 1/30\n"
     ]
    },
    {
     "output_type": "stream",
     "name": "stderr",
     "text": [
      "100%|██████████| 391/391 [01:09<00:00,  5.67batch/s, Loss: 2.2385]\n"
     ]
    },
    {
     "output_type": "stream",
     "name": "stdout",
     "text": [
      "Test Accuracy: 0.2186\n",
      "\n",
      "Epoch: 2/30\n"
     ]
    },
    {
     "output_type": "stream",
     "name": "stderr",
     "text": [
      "100%|██████████| 391/391 [01:08<00:00,  5.69batch/s, Loss: 2.1998]\n"
     ]
    },
    {
     "output_type": "stream",
     "name": "stdout",
     "text": [
      "Test Accuracy: 0.2874\n",
      "\n",
      "Epoch: 3/30\n"
     ]
    },
    {
     "output_type": "stream",
     "name": "stderr",
     "text": [
      "100%|██████████| 391/391 [01:08<00:00,  5.69batch/s, Loss: 2.1564]\n"
     ]
    },
    {
     "output_type": "stream",
     "name": "stdout",
     "text": [
      "Test Accuracy: 0.3196\n",
      "\n",
      "Epoch: 4/30\n"
     ]
    },
    {
     "output_type": "stream",
     "name": "stderr",
     "text": [
      "100%|██████████| 391/391 [01:08<00:00,  5.69batch/s, Loss: 2.1281]\n"
     ]
    },
    {
     "output_type": "stream",
     "name": "stdout",
     "text": [
      "Test Accuracy: 0.3440\n",
      "\n",
      "Epoch: 5/30\n"
     ]
    },
    {
     "output_type": "stream",
     "name": "stderr",
     "text": [
      "100%|██████████| 391/391 [01:08<00:00,  5.70batch/s, Loss: 2.1049]\n"
     ]
    },
    {
     "output_type": "stream",
     "name": "stdout",
     "text": [
      "Test Accuracy: 0.3383\n",
      "\n",
      "Epoch: 6/30\n"
     ]
    },
    {
     "output_type": "stream",
     "name": "stderr",
     "text": [
      "100%|██████████| 391/391 [01:08<00:00,  5.70batch/s, Loss: 2.0849]\n"
     ]
    },
    {
     "output_type": "stream",
     "name": "stdout",
     "text": [
      "Test Accuracy: 0.3860\n",
      "\n",
      "Epoch: 7/30\n"
     ]
    },
    {
     "output_type": "stream",
     "name": "stderr",
     "text": [
      "100%|██████████| 391/391 [01:08<00:00,  5.70batch/s, Loss: 2.0656]\n"
     ]
    },
    {
     "output_type": "stream",
     "name": "stdout",
     "text": [
      "Test Accuracy: 0.4007\n",
      "\n",
      "Epoch: 8/30\n"
     ]
    },
    {
     "output_type": "stream",
     "name": "stderr",
     "text": [
      "100%|██████████| 391/391 [01:08<00:00,  5.71batch/s, Loss: 2.0593]\n"
     ]
    },
    {
     "output_type": "stream",
     "name": "stdout",
     "text": [
      "Test Accuracy: 0.4199\n",
      "\n",
      "Epoch: 9/30\n"
     ]
    },
    {
     "output_type": "stream",
     "name": "stderr",
     "text": [
      "100%|██████████| 391/391 [01:08<00:00,  5.71batch/s, Loss: 2.0447]\n"
     ]
    },
    {
     "output_type": "stream",
     "name": "stdout",
     "text": [
      "Test Accuracy: 0.4329\n",
      "\n",
      "Epoch: 10/30\n"
     ]
    },
    {
     "output_type": "stream",
     "name": "stderr",
     "text": [
      "100%|██████████| 391/391 [01:08<00:00,  5.71batch/s, Loss: 2.0264]\n"
     ]
    },
    {
     "output_type": "stream",
     "name": "stdout",
     "text": [
      "Test Accuracy: 0.4467\n",
      "\n",
      "Epoch: 11/30\n"
     ]
    },
    {
     "output_type": "stream",
     "name": "stderr",
     "text": [
      "100%|██████████| 391/391 [01:08<00:00,  5.71batch/s, Loss: 2.0188]\n"
     ]
    },
    {
     "output_type": "stream",
     "name": "stdout",
     "text": [
      "Test Accuracy: 0.4603\n",
      "\n",
      "Epoch: 12/30\n"
     ]
    },
    {
     "output_type": "stream",
     "name": "stderr",
     "text": [
      "100%|██████████| 391/391 [01:08<00:00,  5.71batch/s, Loss: 2.0056]\n"
     ]
    },
    {
     "output_type": "stream",
     "name": "stdout",
     "text": [
      "Test Accuracy: 0.4120\n",
      "\n",
      "Epoch: 13/30\n"
     ]
    },
    {
     "output_type": "stream",
     "name": "stderr",
     "text": [
      "100%|██████████| 391/391 [01:08<00:00,  5.71batch/s, Loss: 1.9955]\n"
     ]
    },
    {
     "output_type": "stream",
     "name": "stdout",
     "text": [
      "Test Accuracy: 0.4467\n",
      "\n",
      "Epoch: 14/30\n"
     ]
    },
    {
     "output_type": "stream",
     "name": "stderr",
     "text": [
      "100%|██████████| 391/391 [01:08<00:00,  5.71batch/s, Loss: 1.9888]\n"
     ]
    },
    {
     "output_type": "stream",
     "name": "stdout",
     "text": [
      "Test Accuracy: 0.4835\n",
      "\n",
      "Epoch: 15/30\n"
     ]
    },
    {
     "output_type": "stream",
     "name": "stderr",
     "text": [
      "100%|██████████| 391/391 [01:08<00:00,  5.71batch/s, Loss: 1.9820]\n"
     ]
    },
    {
     "output_type": "stream",
     "name": "stdout",
     "text": [
      "Test Accuracy: 0.4844\n",
      "\n",
      "Epoch: 16/30\n"
     ]
    },
    {
     "output_type": "stream",
     "name": "stderr",
     "text": [
      "100%|██████████| 391/391 [01:08<00:00,  5.72batch/s, Loss: 1.9708]\n"
     ]
    },
    {
     "output_type": "stream",
     "name": "stdout",
     "text": [
      "Test Accuracy: 0.4876\n",
      "\n",
      "Epoch: 17/30\n"
     ]
    },
    {
     "output_type": "stream",
     "name": "stderr",
     "text": [
      "100%|██████████| 391/391 [01:08<00:00,  5.72batch/s, Loss: 1.9620]\n"
     ]
    },
    {
     "output_type": "stream",
     "name": "stdout",
     "text": [
      "Test Accuracy: 0.4968\n",
      "\n",
      "Epoch: 18/30\n"
     ]
    },
    {
     "output_type": "stream",
     "name": "stderr",
     "text": [
      "100%|██████████| 391/391 [01:08<00:00,  5.72batch/s, Loss: 1.9554]\n"
     ]
    },
    {
     "output_type": "stream",
     "name": "stdout",
     "text": [
      "Test Accuracy: 0.5051\n",
      "\n",
      "Epoch: 19/30\n"
     ]
    },
    {
     "output_type": "stream",
     "name": "stderr",
     "text": [
      "100%|██████████| 391/391 [01:08<00:00,  5.72batch/s, Loss: 1.9460]\n"
     ]
    },
    {
     "output_type": "stream",
     "name": "stdout",
     "text": [
      "Test Accuracy: 0.5163\n",
      "\n",
      "Epoch: 20/30\n"
     ]
    },
    {
     "output_type": "stream",
     "name": "stderr",
     "text": [
      "100%|██████████| 391/391 [01:08<00:00,  5.72batch/s, Loss: 1.9390]\n"
     ]
    },
    {
     "output_type": "stream",
     "name": "stdout",
     "text": [
      "Test Accuracy: 0.5226\n",
      "\n",
      "Epoch: 21/30\n"
     ]
    },
    {
     "output_type": "stream",
     "name": "stderr",
     "text": [
      "100%|██████████| 391/391 [01:08<00:00,  5.72batch/s, Loss: 1.9341]\n"
     ]
    },
    {
     "output_type": "stream",
     "name": "stdout",
     "text": [
      "Test Accuracy: 0.5335\n",
      "\n",
      "Epoch: 22/30\n"
     ]
    },
    {
     "output_type": "stream",
     "name": "stderr",
     "text": [
      "100%|██████████| 391/391 [01:08<00:00,  5.72batch/s, Loss: 1.9240]\n"
     ]
    },
    {
     "output_type": "stream",
     "name": "stdout",
     "text": [
      "Test Accuracy: 0.5271\n",
      "\n",
      "Epoch: 23/30\n"
     ]
    },
    {
     "output_type": "stream",
     "name": "stderr",
     "text": [
      "100%|██████████| 391/391 [01:08<00:00,  5.72batch/s, Loss: 1.9201]\n"
     ]
    },
    {
     "output_type": "stream",
     "name": "stdout",
     "text": [
      "Test Accuracy: 0.5288\n",
      "\n",
      "Epoch: 24/30\n"
     ]
    },
    {
     "output_type": "stream",
     "name": "stderr",
     "text": [
      "100%|██████████| 391/391 [01:08<00:00,  5.72batch/s, Loss: 1.9122]\n"
     ]
    },
    {
     "output_type": "stream",
     "name": "stdout",
     "text": [
      "Test Accuracy: 0.5411\n",
      "\n",
      "Epoch: 25/30\n"
     ]
    },
    {
     "output_type": "stream",
     "name": "stderr",
     "text": [
      "100%|██████████| 391/391 [01:08<00:00,  5.72batch/s, Loss: 1.9106]\n"
     ]
    },
    {
     "output_type": "stream",
     "name": "stdout",
     "text": [
      "Test Accuracy: 0.5109\n",
      "\n",
      "Epoch: 26/30\n"
     ]
    },
    {
     "output_type": "stream",
     "name": "stderr",
     "text": [
      "100%|██████████| 391/391 [01:08<00:00,  5.72batch/s, Loss: 1.9070]\n"
     ]
    },
    {
     "output_type": "stream",
     "name": "stdout",
     "text": [
      "Test Accuracy: 0.5555\n",
      "\n",
      "Epoch: 27/30\n"
     ]
    },
    {
     "output_type": "stream",
     "name": "stderr",
     "text": [
      "100%|██████████| 391/391 [01:08<00:00,  5.72batch/s, Loss: 1.8963]\n"
     ]
    },
    {
     "output_type": "stream",
     "name": "stdout",
     "text": [
      "Test Accuracy: 0.5389\n",
      "\n",
      "Epoch: 28/30\n"
     ]
    },
    {
     "output_type": "stream",
     "name": "stderr",
     "text": [
      "100%|██████████| 391/391 [01:08<00:00,  5.72batch/s, Loss: 1.8916]\n"
     ]
    },
    {
     "output_type": "stream",
     "name": "stdout",
     "text": [
      "Test Accuracy: 0.5499\n",
      "\n",
      "Epoch: 29/30\n"
     ]
    },
    {
     "output_type": "stream",
     "name": "stderr",
     "text": [
      "100%|██████████| 391/391 [01:08<00:00,  5.72batch/s, Loss: 1.8828]\n"
     ]
    },
    {
     "output_type": "stream",
     "name": "stdout",
     "text": [
      "Test Accuracy: 0.5686\n",
      "\n",
      "Epoch: 30/30\n"
     ]
    },
    {
     "output_type": "stream",
     "name": "stderr",
     "text": [
      "100%|██████████| 391/391 [01:08<00:00,  5.72batch/s, Loss: 1.8786]\n"
     ]
    },
    {
     "output_type": "stream",
     "name": "stdout",
     "text": [
      "Test Accuracy: 0.5670\n"
     ]
    },
    {
     "output_type": "display_data",
     "data": {
      "text/plain": [
       "<Figure size 1000x500 with 1 Axes>"
      ],
      "image/png": "[encoded data removed]"
     },
     "metadata": {}
    },
    {
     "output_type": "execute_result",
     "data": {
      "text/plain": [
       "([2.238500786559356,\n",
       "  2.199764090730711,\n",
       "  2.156388641318397,\n",
       "  2.1280978402823134,\n",
       "  2.104932772838856,\n",
       "  2.0849472735543997,\n",
       "  2.065592119151064,\n",
       "  2.059341076085025,\n",
       "  2.044656817565489,\n",
       "  2.026420735032357,\n",
       "  2.018805149875943,\n",
       "  2.0055886638134033,\n",
       "  1.995502853332578,\n",
       "  1.9887557532781226,\n",
       "  1.9819512495299434,\n",
       "  1.970846029498693,\n",
       "  1.9619564982631323,\n",
       "  1.9553744545982927,\n",
       "  1.945998259517543,\n",
       "  1.9389729893116086,\n",
       "  1.9341426676191638,\n",
       "  1.923991335322485,\n",
       "  1.920076298896614,\n",
       "  1.9121915473962379,\n",
       "  1.910561902138888,\n",
       "  1.9069713311427086,\n",
       "  1.8962814631059652,\n",
       "  1.8915531653577409,\n",
       "  1.8828258675992335,\n",
       "  1.8785843843084467],\n",
       " [0.2186,\n",
       "  0.2874,\n",
       "  0.3196,\n",
       "  0.344,\n",
       "  0.3383,\n",
       "  0.386,\n",
       "  0.4007,\n",
       "  0.4199,\n",
       "  0.4329,\n",
       "  0.4467,\n",
       "  0.4603,\n",
       "  0.412,\n",
       "  0.4467,\n",
       "  0.4835,\n",
       "  0.4844,\n",
       "  0.4876,\n",
       "  0.4968,\n",
       "  0.5051,\n",
       "  0.5163,\n",
       "  0.5226,\n",
       "  0.5335,\n",
       "  0.5271,\n",
       "  0.5288,\n",
       "  0.5411,\n",
       "  0.5109,\n",
       "  0.5555,\n",
       "  0.5389,\n",
       "  0.5499,\n",
       "  0.5686,\n",
       "  0.567])"
      ]
     },
     "metadata": {},
     "execution_count": 33
    }
   ]
  },
  {
   "cell_type": "code",
   "source": [
    "train_model(model_3b_5_250, train_loader, test_loader, loss_sn, 70, optimizer_adam_001, device) # 63.8%"
   ],
   "metadata": {
    "colab": {
     "base_uri": "https://localhost:8080/",
     "height": 1000
    },
    "id": "XTJW2vHytaMA",
    "outputId": "cba0f4be-ce66-419c-c98f-67bf8d5fd1c1"
   },
   "id": "XTJW2vHytaMA",
   "execution_count": null,
   "outputs": [
    {
     "output_type": "stream",
     "name": "stdout",
     "text": [
      "\n",
      "Epoch: 1/70\n"
     ]
    },
    {
     "output_type": "stream",
     "name": "stderr",
     "text": [
      "100%|██████████| 391/391 [01:08<00:00,  5.69batch/s, Loss: 2.2575]\n"
     ]
    },
    {
     "output_type": "stream",
     "name": "stdout",
     "text": [
      "Test Accuracy: 0.2314\n",
      "\n",
      "Epoch: 2/70\n"
     ]
    },
    {
     "output_type": "stream",
     "name": "stderr",
     "text": [
      "100%|██████████| 391/391 [01:08<00:00,  5.70batch/s, Loss: 2.2069]\n"
     ]
    },
    {
     "output_type": "stream",
     "name": "stdout",
     "text": [
      "Test Accuracy: 0.2416\n",
      "\n",
      "Epoch: 3/70\n"
     ]
    },
    {
     "output_type": "stream",
     "name": "stderr",
     "text": [
      "100%|██████████| 391/391 [01:08<00:00,  5.70batch/s, Loss: 2.1669]\n"
     ]
    },
    {
     "output_type": "stream",
     "name": "stdout",
     "text": [
      "Test Accuracy: 0.3197\n",
      "\n",
      "Epoch: 4/70\n"
     ]
    },
    {
     "output_type": "stream",
     "name": "stderr",
     "text": [
      "100%|██████████| 391/391 [01:08<00:00,  5.70batch/s, Loss: 2.1324]\n"
     ]
    },
    {
     "output_type": "stream",
     "name": "stdout",
     "text": [
      "Test Accuracy: 0.3373\n",
      "\n",
      "Epoch: 5/70\n"
     ]
    },
    {
     "output_type": "stream",
     "name": "stderr",
     "text": [
      "100%|██████████| 391/391 [01:08<00:00,  5.71batch/s, Loss: 2.1033]\n"
     ]
    },
    {
     "output_type": "stream",
     "name": "stdout",
     "text": [
      "Test Accuracy: 0.3636\n",
      "\n",
      "Epoch: 6/70\n"
     ]
    },
    {
     "output_type": "stream",
     "name": "stderr",
     "text": [
      "100%|██████████| 391/391 [01:08<00:00,  5.71batch/s, Loss: 2.0826]\n"
     ]
    },
    {
     "output_type": "stream",
     "name": "stdout",
     "text": [
      "Test Accuracy: 0.4000\n",
      "\n",
      "Epoch: 7/70\n"
     ]
    },
    {
     "output_type": "stream",
     "name": "stderr",
     "text": [
      "100%|██████████| 391/391 [01:08<00:00,  5.70batch/s, Loss: 2.0625]\n"
     ]
    },
    {
     "output_type": "stream",
     "name": "stdout",
     "text": [
      "Test Accuracy: 0.4104\n",
      "\n",
      "Epoch: 8/70\n"
     ]
    },
    {
     "output_type": "stream",
     "name": "stderr",
     "text": [
      "100%|██████████| 391/391 [01:08<00:00,  5.71batch/s, Loss: 2.0494]\n"
     ]
    },
    {
     "output_type": "stream",
     "name": "stdout",
     "text": [
      "Test Accuracy: 0.4185\n",
      "\n",
      "Epoch: 9/70\n"
     ]
    },
    {
     "output_type": "stream",
     "name": "stderr",
     "text": [
      "100%|██████████| 391/391 [01:08<00:00,  5.71batch/s, Loss: 2.0297]\n"
     ]
    },
    {
     "output_type": "stream",
     "name": "stdout",
     "text": [
      "Test Accuracy: 0.4164\n",
      "\n",
      "Epoch: 10/70\n"
     ]
    },
    {
     "output_type": "stream",
     "name": "stderr",
     "text": [
      "100%|██████████| 391/391 [01:08<00:00,  5.71batch/s, Loss: 2.0142]\n"
     ]
    },
    {
     "output_type": "stream",
     "name": "stdout",
     "text": [
      "Test Accuracy: 0.4648\n",
      "\n",
      "Epoch: 11/70\n"
     ]
    },
    {
     "output_type": "stream",
     "name": "stderr",
     "text": [
      "100%|██████████| 391/391 [01:08<00:00,  5.71batch/s, Loss: 2.0000]\n"
     ]
    },
    {
     "output_type": "stream",
     "name": "stdout",
     "text": [
      "Test Accuracy: 0.3933\n",
      "\n",
      "Epoch: 12/70\n"
     ]
    },
    {
     "output_type": "stream",
     "name": "stderr",
     "text": [
      "100%|██████████| 391/391 [01:08<00:00,  5.71batch/s, Loss: 1.9907]\n"
     ]
    },
    {
     "output_type": "stream",
     "name": "stdout",
     "text": [
      "Test Accuracy: 0.4669\n",
      "\n",
      "Epoch: 13/70\n"
     ]
    },
    {
     "output_type": "stream",
     "name": "stderr",
     "text": [
      "100%|██████████| 391/391 [01:08<00:00,  5.72batch/s, Loss: 1.9811]\n"
     ]
    },
    {
     "output_type": "stream",
     "name": "stdout",
     "text": [
      "Test Accuracy: 0.4853\n",
      "\n",
      "Epoch: 14/70\n"
     ]
    },
    {
     "output_type": "stream",
     "name": "stderr",
     "text": [
      "100%|██████████| 391/391 [01:08<00:00,  5.71batch/s, Loss: 1.9601]\n"
     ]
    },
    {
     "output_type": "stream",
     "name": "stdout",
     "text": [
      "Test Accuracy: 0.4941\n",
      "\n",
      "Epoch: 15/70\n"
     ]
    },
    {
     "output_type": "stream",
     "name": "stderr",
     "text": [
      "100%|██████████| 391/391 [01:08<00:00,  5.71batch/s, Loss: 1.9538]\n"
     ]
    },
    {
     "output_type": "stream",
     "name": "stdout",
     "text": [
      "Test Accuracy: 0.4936\n",
      "\n",
      "Epoch: 16/70\n"
     ]
    },
    {
     "output_type": "stream",
     "name": "stderr",
     "text": [
      "100%|██████████| 391/391 [01:08<00:00,  5.71batch/s, Loss: 1.9460]\n"
     ]
    },
    {
     "output_type": "stream",
     "name": "stdout",
     "text": [
      "Test Accuracy: 0.5239\n",
      "\n",
      "Epoch: 17/70\n"
     ]
    },
    {
     "output_type": "stream",
     "name": "stderr",
     "text": [
      "100%|██████████| 391/391 [01:08<00:00,  5.72batch/s, Loss: 1.9371]\n"
     ]
    },
    {
     "output_type": "stream",
     "name": "stdout",
     "text": [
      "Test Accuracy: 0.4957\n",
      "\n",
      "Epoch: 18/70\n"
     ]
    },
    {
     "output_type": "stream",
     "name": "stderr",
     "text": [
      "100%|██████████| 391/391 [01:08<00:00,  5.72batch/s, Loss: 1.9271]\n"
     ]
    },
    {
     "output_type": "stream",
     "name": "stdout",
     "text": [
      "Test Accuracy: 0.5248\n",
      "\n",
      "Epoch: 19/70\n"
     ]
    },
    {
     "output_type": "stream",
     "name": "stderr",
     "text": [
      "100%|██████████| 391/391 [01:08<00:00,  5.72batch/s, Loss: 1.9250]\n"
     ]
    },
    {
     "output_type": "stream",
     "name": "stdout",
     "text": [
      "Test Accuracy: 0.5353\n",
      "\n",
      "Epoch: 20/70\n"
     ]
    },
    {
     "output_type": "stream",
     "name": "stderr",
     "text": [
      "100%|██████████| 391/391 [01:08<00:00,  5.72batch/s, Loss: 1.9168]\n"
     ]
    },
    {
     "output_type": "stream",
     "name": "stdout",
     "text": [
      "Test Accuracy: 0.5415\n",
      "\n",
      "Epoch: 21/70\n"
     ]
    },
    {
     "output_type": "stream",
     "name": "stderr",
     "text": [
      "100%|██████████| 391/391 [01:08<00:00,  5.72batch/s, Loss: 1.9097]\n"
     ]
    },
    {
     "output_type": "stream",
     "name": "stdout",
     "text": [
      "Test Accuracy: 0.5583\n",
      "\n",
      "Epoch: 22/70\n"
     ]
    },
    {
     "output_type": "stream",
     "name": "stderr",
     "text": [
      "100%|██████████| 391/391 [01:08<00:00,  5.72batch/s, Loss: 1.9046]\n"
     ]
    },
    {
     "output_type": "stream",
     "name": "stdout",
     "text": [
      "Test Accuracy: 0.5678\n",
      "\n",
      "Epoch: 23/70\n"
     ]
    },
    {
     "output_type": "stream",
     "name": "stderr",
     "text": [
      "100%|██████████| 391/391 [01:08<00:00,  5.72batch/s, Loss: 1.8956]\n"
     ]
    },
    {
     "output_type": "stream",
     "name": "stdout",
     "text": [
      "Test Accuracy: 0.5623\n",
      "\n",
      "Epoch: 24/70\n"
     ]
    },
    {
     "output_type": "stream",
     "name": "stderr",
     "text": [
      "100%|██████████| 391/391 [01:08<00:00,  5.72batch/s, Loss: 1.8902]\n"
     ]
    },
    {
     "output_type": "stream",
     "name": "stdout",
     "text": [
      "Test Accuracy: 0.5680\n",
      "\n",
      "Epoch: 25/70\n"
     ]
    },
    {
     "output_type": "stream",
     "name": "stderr",
     "text": [
      "100%|██████████| 391/391 [01:08<00:00,  5.72batch/s, Loss: 1.8861]\n"
     ]
    },
    {
     "output_type": "stream",
     "name": "stdout",
     "text": [
      "Test Accuracy: 0.5402\n",
      "\n",
      "Epoch: 26/70\n"
     ]
    },
    {
     "output_type": "stream",
     "name": "stderr",
     "text": [
      "100%|██████████| 391/391 [01:08<00:00,  5.72batch/s, Loss: 1.8831]\n"
     ]
    },
    {
     "output_type": "stream",
     "name": "stdout",
     "text": [
      "Test Accuracy: 0.5807\n",
      "\n",
      "Epoch: 27/70\n"
     ]
    },
    {
     "output_type": "stream",
     "name": "stderr",
     "text": [
      "100%|██████████| 391/391 [01:08<00:00,  5.72batch/s, Loss: 1.8806]\n"
     ]
    },
    {
     "output_type": "stream",
     "name": "stdout",
     "text": [
      "Test Accuracy: 0.5473\n",
      "\n",
      "Epoch: 28/70\n"
     ]
    },
    {
     "output_type": "stream",
     "name": "stderr",
     "text": [
      "100%|██████████| 391/391 [01:08<00:00,  5.72batch/s, Loss: 1.8750]\n"
     ]
    },
    {
     "output_type": "stream",
     "name": "stdout",
     "text": [
      "Test Accuracy: 0.5703\n",
      "\n",
      "Epoch: 29/70\n"
     ]
    },
    {
     "output_type": "stream",
     "name": "stderr",
     "text": [
      "100%|██████████| 391/391 [01:08<00:00,  5.72batch/s, Loss: 1.8653]\n"
     ]
    },
    {
     "output_type": "stream",
     "name": "stdout",
     "text": [
      "Test Accuracy: 0.5819\n",
      "\n",
      "Epoch: 30/70\n"
     ]
    },
    {
     "output_type": "stream",
     "name": "stderr",
     "text": [
      "100%|██████████| 391/391 [01:08<00:00,  5.72batch/s, Loss: 1.8676]\n"
     ]
    },
    {
     "output_type": "stream",
     "name": "stdout",
     "text": [
      "Test Accuracy: 0.5756\n",
      "\n",
      "Epoch: 31/70\n"
     ]
    },
    {
     "output_type": "stream",
     "name": "stderr",
     "text": [
      "100%|██████████| 391/391 [01:08<00:00,  5.72batch/s, Loss: 1.8647]\n"
     ]
    },
    {
     "output_type": "stream",
     "name": "stdout",
     "text": [
      "Test Accuracy: 0.5819\n",
      "\n",
      "Epoch: 32/70\n"
     ]
    },
    {
     "output_type": "stream",
     "name": "stderr",
     "text": [
      "100%|██████████| 391/391 [01:08<00:00,  5.72batch/s, Loss: 1.8616]\n"
     ]
    },
    {
     "output_type": "stream",
     "name": "stdout",
     "text": [
      "Test Accuracy: 0.5503\n",
      "\n",
      "Epoch: 33/70\n"
     ]
    },
    {
     "output_type": "stream",
     "name": "stderr",
     "text": [
      "100%|██████████| 391/391 [01:08<00:00,  5.72batch/s, Loss: 1.8611]\n"
     ]
    },
    {
     "output_type": "stream",
     "name": "stdout",
     "text": [
      "Test Accuracy: 0.5789\n",
      "\n",
      "Epoch: 34/70\n"
     ]
    },
    {
     "output_type": "stream",
     "name": "stderr",
     "text": [
      "100%|██████████| 391/391 [01:08<00:00,  5.73batch/s, Loss: 1.8458]\n"
     ]
    },
    {
     "output_type": "stream",
     "name": "stdout",
     "text": [
      "Test Accuracy: 0.5893\n",
      "\n",
      "Epoch: 35/70\n"
     ]
    },
    {
     "output_type": "stream",
     "name": "stderr",
     "text": [
      "100%|██████████| 391/391 [01:08<00:00,  5.72batch/s, Loss: 1.8445]\n"
     ]
    },
    {
     "output_type": "stream",
     "name": "stdout",
     "text": [
      "Test Accuracy: 0.6113\n",
      "\n",
      "Epoch: 36/70\n"
     ]
    },
    {
     "output_type": "stream",
     "name": "stderr",
     "text": [
      "100%|██████████| 391/391 [01:08<00:00,  5.73batch/s, Loss: 1.8431]\n"
     ]
    },
    {
     "output_type": "stream",
     "name": "stdout",
     "text": [
      "Test Accuracy: 0.6035\n",
      "\n",
      "Epoch: 37/70\n"
     ]
    },
    {
     "output_type": "stream",
     "name": "stderr",
     "text": [
      "100%|██████████| 391/391 [01:08<00:00,  5.72batch/s, Loss: 1.8378]\n"
     ]
    },
    {
     "output_type": "stream",
     "name": "stdout",
     "text": [
      "Test Accuracy: 0.6118\n",
      "\n",
      "Epoch: 38/70\n"
     ]
    },
    {
     "output_type": "stream",
     "name": "stderr",
     "text": [
      "100%|██████████| 391/391 [01:08<00:00,  5.72batch/s, Loss: 1.8350]\n"
     ]
    },
    {
     "output_type": "stream",
     "name": "stdout",
     "text": [
      "Test Accuracy: 0.5871\n",
      "\n",
      "Epoch: 39/70\n"
     ]
    },
    {
     "output_type": "stream",
     "name": "stderr",
     "text": [
      "100%|██████████| 391/391 [01:08<00:00,  5.73batch/s, Loss: 1.8420]\n"
     ]
    },
    {
     "output_type": "stream",
     "name": "stdout",
     "text": [
      "Test Accuracy: 0.6023\n",
      "\n",
      "Epoch: 40/70\n"
     ]
    },
    {
     "output_type": "stream",
     "name": "stderr",
     "text": [
      "100%|██████████| 391/391 [01:08<00:00,  5.72batch/s, Loss: 1.8359]\n"
     ]
    },
    {
     "output_type": "stream",
     "name": "stdout",
     "text": [
      "Test Accuracy: 0.6094\n",
      "\n",
      "Epoch: 41/70\n"
     ]
    },
    {
     "output_type": "stream",
     "name": "stderr",
     "text": [
      "100%|██████████| 391/391 [01:08<00:00,  5.72batch/s, Loss: 1.8286]\n"
     ]
    },
    {
     "output_type": "stream",
     "name": "stdout",
     "text": [
      "Test Accuracy: 0.5860\n",
      "\n",
      "Epoch: 42/70\n"
     ]
    },
    {
     "output_type": "stream",
     "name": "stderr",
     "text": [
      "100%|██████████| 391/391 [01:08<00:00,  5.73batch/s, Loss: 1.8353]\n"
     ]
    },
    {
     "output_type": "stream",
     "name": "stdout",
     "text": [
      "Test Accuracy: 0.6205\n",
      "\n",
      "Epoch: 43/70\n"
     ]
    },
    {
     "output_type": "stream",
     "name": "stderr",
     "text": [
      "100%|██████████| 391/391 [01:08<00:00,  5.72batch/s, Loss: 1.8255]\n"
     ]
    },
    {
     "output_type": "stream",
     "name": "stdout",
     "text": [
      "Test Accuracy: 0.5948\n",
      "\n",
      "Epoch: 44/70\n"
     ]
    },
    {
     "output_type": "stream",
     "name": "stderr",
     "text": [
      "100%|██████████| 391/391 [01:08<00:00,  5.73batch/s, Loss: 1.8232]\n"
     ]
    },
    {
     "output_type": "stream",
     "name": "stdout",
     "text": [
      "Test Accuracy: 0.6228\n",
      "\n",
      "Epoch: 45/70\n"
     ]
    },
    {
     "output_type": "stream",
     "name": "stderr",
     "text": [
      "100%|██████████| 391/391 [01:08<00:00,  5.73batch/s, Loss: 1.8250]\n"
     ]
    },
    {
     "output_type": "stream",
     "name": "stdout",
     "text": [
      "Test Accuracy: 0.6258\n",
      "\n",
      "Epoch: 46/70\n"
     ]
    },
    {
     "output_type": "stream",
     "name": "stderr",
     "text": [
      "100%|██████████| 391/391 [01:08<00:00,  5.72batch/s, Loss: 1.8143]\n"
     ]
    },
    {
     "output_type": "stream",
     "name": "stdout",
     "text": [
      "Test Accuracy: 0.6235\n",
      "\n",
      "Epoch: 47/70\n"
     ]
    },
    {
     "output_type": "stream",
     "name": "stderr",
     "text": [
      "100%|██████████| 391/391 [01:08<00:00,  5.73batch/s, Loss: 1.8220]\n"
     ]
    },
    {
     "output_type": "stream",
     "name": "stdout",
     "text": [
      "Test Accuracy: 0.6396\n",
      "\n",
      "Epoch: 48/70\n"
     ]
    },
    {
     "output_type": "stream",
     "name": "stderr",
     "text": [
      "100%|██████████| 391/391 [01:08<00:00,  5.73batch/s, Loss: 1.8076]\n"
     ]
    },
    {
     "output_type": "stream",
     "name": "stdout",
     "text": [
      "Test Accuracy: 0.6196\n",
      "\n",
      "Epoch: 49/70\n"
     ]
    },
    {
     "output_type": "stream",
     "name": "stderr",
     "text": [
      "100%|██████████| 391/391 [01:08<00:00,  5.72batch/s, Loss: 1.8129]\n"
     ]
    },
    {
     "output_type": "stream",
     "name": "stdout",
     "text": [
      "Test Accuracy: 0.6229\n",
      "\n",
      "Epoch: 50/70\n"
     ]
    },
    {
     "output_type": "stream",
     "name": "stderr",
     "text": [
      "100%|██████████| 391/391 [01:08<00:00,  5.73batch/s, Loss: 1.8102]\n"
     ]
    },
    {
     "output_type": "stream",
     "name": "stdout",
     "text": [
      "Test Accuracy: 0.6379\n",
      "\n",
      "Epoch: 51/70\n"
     ]
    },
    {
     "output_type": "stream",
     "name": "stderr",
     "text": [
      "100%|██████████| 391/391 [01:08<00:00,  5.73batch/s, Loss: 1.8011]\n"
     ]
    },
    {
     "output_type": "stream",
     "name": "stdout",
     "text": [
      "Test Accuracy: 0.6397\n",
      "\n",
      "Epoch: 52/70\n"
     ]
    },
    {
     "output_type": "stream",
     "name": "stderr",
     "text": [
      "100%|██████████| 391/391 [01:08<00:00,  5.73batch/s, Loss: 1.8023]\n"
     ]
    },
    {
     "output_type": "stream",
     "name": "stdout",
     "text": [
      "Test Accuracy: 0.6382\n",
      "\n",
      "Epoch: 53/70\n"
     ]
    },
    {
     "output_type": "stream",
     "name": "stderr",
     "text": [
      "100%|██████████| 391/391 [01:08<00:00,  5.73batch/s, Loss: 1.8072]\n"
     ]
    },
    {
     "output_type": "stream",
     "name": "stdout",
     "text": [
      "Test Accuracy: 0.6143\n",
      "\n",
      "Epoch: 54/70\n"
     ]
    },
    {
     "output_type": "stream",
     "name": "stderr",
     "text": [
      "100%|██████████| 391/391 [01:08<00:00,  5.72batch/s, Loss: 1.8026]\n"
     ]
    },
    {
     "output_type": "stream",
     "name": "stdout",
     "text": [
      "Test Accuracy: 0.6403\n",
      "\n",
      "Epoch: 55/70\n"
     ]
    },
    {
     "output_type": "stream",
     "name": "stderr",
     "text": [
      "100%|██████████| 391/391 [01:08<00:00,  5.73batch/s, Loss: 1.7954]\n"
     ]
    },
    {
     "output_type": "stream",
     "name": "stdout",
     "text": [
      "Test Accuracy: 0.6206\n",
      "\n",
      "Epoch: 56/70\n"
     ]
    },
    {
     "output_type": "stream",
     "name": "stderr",
     "text": [
      "100%|██████████| 391/391 [01:08<00:00,  5.73batch/s, Loss: 1.7958]\n"
     ]
    },
    {
     "output_type": "stream",
     "name": "stdout",
     "text": [
      "Test Accuracy: 0.6333\n",
      "\n",
      "Epoch: 57/70\n"
     ]
    },
    {
     "output_type": "stream",
     "name": "stderr",
     "text": [
      "100%|██████████| 391/391 [01:08<00:00,  5.73batch/s, Loss: 1.7932]\n"
     ]
    },
    {
     "output_type": "stream",
     "name": "stdout",
     "text": [
      "Test Accuracy: 0.6193\n",
      "\n",
      "Epoch: 58/70\n"
     ]
    },
    {
     "output_type": "stream",
     "name": "stderr",
     "text": [
      "100%|██████████| 391/391 [01:08<00:00,  5.73batch/s, Loss: 1.7912]\n"
     ]
    },
    {
     "output_type": "stream",
     "name": "stdout",
     "text": [
      "Test Accuracy: 0.6265\n",
      "\n",
      "Epoch: 59/70\n"
     ]
    },
    {
     "output_type": "stream",
     "name": "stderr",
     "text": [
      "100%|██████████| 391/391 [01:08<00:00,  5.73batch/s, Loss: 1.7870]\n"
     ]
    },
    {
     "output_type": "stream",
     "name": "stdout",
     "text": [
      "Test Accuracy: 0.6397\n",
      "\n",
      "Epoch: 60/70\n"
     ]
    },
    {
     "output_type": "stream",
     "name": "stderr",
     "text": [
      "100%|██████████| 391/391 [01:08<00:00,  5.73batch/s, Loss: 1.7841]\n"
     ]
    },
    {
     "output_type": "stream",
     "name": "stdout",
     "text": [
      "Test Accuracy: 0.6223\n",
      "\n",
      "Epoch: 61/70\n"
     ]
    },
    {
     "output_type": "stream",
     "name": "stderr",
     "text": [
      "100%|██████████| 391/391 [01:08<00:00,  5.73batch/s, Loss: 1.7874]\n"
     ]
    },
    {
     "output_type": "stream",
     "name": "stdout",
     "text": [
      "Test Accuracy: 0.6468\n",
      "\n",
      "Epoch: 62/70\n"
     ]
    },
    {
     "output_type": "stream",
     "name": "stderr",
     "text": [
      "100%|██████████| 391/391 [01:08<00:00,  5.73batch/s, Loss: 1.7820]\n"
     ]
    },
    {
     "output_type": "stream",
     "name": "stdout",
     "text": [
      "Test Accuracy: 0.6638\n",
      "\n",
      "Epoch: 63/70\n"
     ]
    },
    {
     "output_type": "stream",
     "name": "stderr",
     "text": [
      "100%|██████████| 391/391 [01:08<00:00,  5.73batch/s, Loss: 1.7787]\n"
     ]
    },
    {
     "output_type": "stream",
     "name": "stdout",
     "text": [
      "Test Accuracy: 0.6583\n",
      "\n",
      "Epoch: 64/70\n"
     ]
    },
    {
     "output_type": "stream",
     "name": "stderr",
     "text": [
      "100%|██████████| 391/391 [01:08<00:00,  5.73batch/s, Loss: 1.7780]\n"
     ]
    },
    {
     "output_type": "stream",
     "name": "stdout",
     "text": [
      "Test Accuracy: 0.6681\n",
      "\n",
      "Epoch: 65/70\n"
     ]
    },
    {
     "output_type": "stream",
     "name": "stderr",
     "text": [
      "100%|██████████| 391/391 [01:08<00:00,  5.73batch/s, Loss: 1.7775]\n"
     ]
    },
    {
     "output_type": "stream",
     "name": "stdout",
     "text": [
      "Test Accuracy: 0.6579\n",
      "\n",
      "Epoch: 66/70\n"
     ]
    },
    {
     "output_type": "stream",
     "name": "stderr",
     "text": [
      "100%|██████████| 391/391 [01:08<00:00,  5.73batch/s, Loss: 1.7847]\n"
     ]
    },
    {
     "output_type": "stream",
     "name": "stdout",
     "text": [
      "Test Accuracy: 0.6161\n",
      "\n",
      "Epoch: 67/70\n"
     ]
    },
    {
     "output_type": "stream",
     "name": "stderr",
     "text": [
      "100%|██████████| 391/391 [01:08<00:00,  5.73batch/s, Loss: 1.7784]\n"
     ]
    },
    {
     "output_type": "stream",
     "name": "stdout",
     "text": [
      "Test Accuracy: 0.6193\n",
      "\n",
      "Epoch: 68/70\n"
     ]
    },
    {
     "output_type": "stream",
     "name": "stderr",
     "text": [
      "100%|██████████| 391/391 [01:08<00:00,  5.73batch/s, Loss: 1.7675]\n"
     ]
    },
    {
     "output_type": "stream",
     "name": "stdout",
     "text": [
      "Test Accuracy: 0.6554\n",
      "\n",
      "Epoch: 69/70\n"
     ]
    },
    {
     "output_type": "stream",
     "name": "stderr",
     "text": [
      "100%|██████████| 391/391 [01:08<00:00,  5.73batch/s, Loss: 1.7783]\n"
     ]
    },
    {
     "output_type": "stream",
     "name": "stdout",
     "text": [
      "Test Accuracy: 0.6641\n",
      "\n",
      "Epoch: 70/70\n"
     ]
    },
    {
     "output_type": "stream",
     "name": "stderr",
     "text": [
      "100%|██████████| 391/391 [01:08<00:00,  5.73batch/s, Loss: 1.7708]\n"
     ]
    },
    {
     "output_type": "stream",
     "name": "stdout",
     "text": [
      "Test Accuracy: 0.6380\n"
     ]
    },
    {
     "output_type": "display_data",
     "data": {
      "text/plain": [
       "<Figure size 700x500 with 1 Axes>"
      ],
      "image/png": "[encoded data removed]"
     },
     "metadata": {}
    },
    {
     "output_type": "execute_result",
     "data": {
      "text/plain": [
       "([2.257548741367467,\n",
       "  2.2069060351232737,\n",
       "  2.166881042978038,\n",
       "  2.1323876920563487,\n",
       "  2.1033264069301087,\n",
       "  2.0825660576295975,\n",
       "  2.062472880648835,\n",
       "  2.0493769993257644,\n",
       "  2.0296964428918747,\n",
       "  2.0142496263279632,\n",
       "  2.000042794000767,\n",
       "  1.9906815692896733,\n",
       "  1.981073684094812,\n",
       "  1.9601281799013963,\n",
       "  1.9537578665691873,\n",
       "  1.9459571179831425,\n",
       "  1.9371270727928338,\n",
       "  1.9271303034194596,\n",
       "  1.9250052719164992,\n",
       "  1.9168337985987554,\n",
       "  1.9097161762549748,\n",
       "  1.9045606680843226,\n",
       "  1.8956341993473376,\n",
       "  1.8901639350539887,\n",
       "  1.8860747701371723,\n",
       "  1.8830665374350974,\n",
       "  1.8806320727633699,\n",
       "  1.8749738489575398,\n",
       "  1.8653111652949887,\n",
       "  1.8676207687543787,\n",
       "  1.8647229104395717,\n",
       "  1.8616296077323387,\n",
       "  1.861103543540096,\n",
       "  1.8458035632472514,\n",
       "  1.8444707576576096,\n",
       "  1.8430714875535892,\n",
       "  1.8377940209625323,\n",
       "  1.8350005759607495,\n",
       "  1.8419864994790547,\n",
       "  1.8358692442974471,\n",
       "  1.8285767666214263,\n",
       "  1.8353235898420328,\n",
       "  1.825540940474976,\n",
       "  1.8231678185865396,\n",
       "  1.8249614668624174,\n",
       "  1.8143412731492612,\n",
       "  1.8219619132673648,\n",
       "  1.807642777557568,\n",
       "  1.8128921256955628,\n",
       "  1.8102354131391287,\n",
       "  1.8011189936981786,\n",
       "  1.802294239363707,\n",
       "  1.8072458606241915,\n",
       "  1.8026121766366008,\n",
       "  1.7953759876968305,\n",
       "  1.7958004111829011,\n",
       "  1.7931678258549526,\n",
       "  1.791249984365595,\n",
       "  1.78703758631216,\n",
       "  1.7840753308952313,\n",
       "  1.7874364868149428,\n",
       "  1.782045407368399,\n",
       "  1.7787276177150209,\n",
       "  1.777957722049235,\n",
       "  1.7775215876986608,\n",
       "  1.7846698684765554,\n",
       "  1.77837446248135,\n",
       "  1.7675096988677979,\n",
       "  1.7783231518762497,\n",
       "  1.7708305943652491],\n",
       " [0.2314,\n",
       "  0.2416,\n",
       "  0.3197,\n",
       "  0.3373,\n",
       "  0.3636,\n",
       "  0.4,\n",
       "  0.4104,\n",
       "  0.4185,\n",
       "  0.4164,\n",
       "  0.4648,\n",
       "  0.3933,\n",
       "  0.4669,\n",
       "  0.4853,\n",
       "  0.4941,\n",
       "  0.4936,\n",
       "  0.5239,\n",
       "  0.4957,\n",
       "  0.5248,\n",
       "  0.5353,\n",
       "  0.5415,\n",
       "  0.5583,\n",
       "  0.5678,\n",
       "  0.5623,\n",
       "  0.568,\n",
       "  0.5402,\n",
       "  0.5807,\n",
       "  0.5473,\n",
       "  0.5703,\n",
       "  0.5819,\n",
       "  0.5756,\n",
       "  0.5819,\n",
       "  0.5503,\n",
       "  0.5789,\n",
       "  0.5893,\n",
       "  0.6113,\n",
       "  0.6035,\n",
       "  0.6118,\n",
       "  0.5871,\n",
       "  0.6023,\n",
       "  0.6094,\n",
       "  0.586,\n",
       "  0.6205,\n",
       "  0.5948,\n",
       "  0.6228,\n",
       "  0.6258,\n",
       "  0.6235,\n",
       "  0.6396,\n",
       "  0.6196,\n",
       "  0.6229,\n",
       "  0.6379,\n",
       "  0.6397,\n",
       "  0.6382,\n",
       "  0.6143,\n",
       "  0.6403,\n",
       "  0.6206,\n",
       "  0.6333,\n",
       "  0.6193,\n",
       "  0.6265,\n",
       "  0.6397,\n",
       "  0.6223,\n",
       "  0.6468,\n",
       "  0.6638,\n",
       "  0.6583,\n",
       "  0.6681,\n",
       "  0.6579,\n",
       "  0.6161,\n",
       "  0.6193,\n",
       "  0.6554,\n",
       "  0.6641,\n",
       "  0.638])"
      ]
     },
     "metadata": {},
     "execution_count": 47
    }
   ]
  },
  {
   "cell_type": "code",
   "source": [
    "optimizer_adam_0001 = torch.optim.Adam(model_3b_5_250.parameters(), lr=0.0001)"
   ],
   "metadata": {
    "id": "EhJAJ02wDDi1"
   },
   "id": "EhJAJ02wDDi1",
   "execution_count": null,
   "outputs": []
  },
  {
   "cell_type": "code",
   "source": [
    "optimizer_adam_0006 = torch.optim.Adam(model_3b_5_250.parameters(), lr=0.0006)"
   ],
   "metadata": {
    "id": "gFVrvQ1CG4bv"
   },
   "id": "gFVrvQ1CG4bv",
   "execution_count": null,
   "outputs": []
  },
  {
   "cell_type": "code",
   "source": [
    "# SDG\n",
    "optimizer_sg_001 = torch.optim.SGD(model_3b_5_250.parameters(), lr=lr_001)"
   ],
   "metadata": {
    "id": "h1tNJP1WLKL8"
   },
   "id": "h1tNJP1WLKL8",
   "execution_count": null,
   "outputs": []
  },
  {
   "cell_type": "code",
   "source": [
    "train_model(model_3b_5_250, train_loader, test_loader, loss_sn, 30, optimizer_sg_001, device) # 0.0001 - 12 epochs don, 69.41%, 70.64%"
   ],
   "metadata": {
    "colab": {
     "base_uri": "https://localhost:8080/",
     "height": 1000
    },
    "id": "_iTZ-N55CVL1",
    "outputId": "da3e6d91-17fa-4780-99f9-78696b604d74"
   },
   "id": "_iTZ-N55CVL1",
   "execution_count": null,
   "outputs": [
    {
     "metadata": {
      "tags": null
     },
     "name": "stdout",
     "output_type": "stream",
     "text": [
      "\n",
      "Epoch: 1/30\n"
     ]
    },
    {
     "metadata": {
      "tags": null
     },
     "name": "stderr",
     "output_type": "stream",
     "text": [
      "100%|██████████| 391/391 [01:08<00:00,  5.73batch/s, Loss: 1.7067]\n"
     ]
    },
    {
     "metadata": {
      "tags": null
     },
     "name": "stdout",
     "output_type": "stream",
     "text": [
      "Test Accuracy: 0.6981\n",
      "\n",
      "Epoch: 2/30\n"
     ]
    },
    {
     "metadata": {
      "tags": null
     },
     "name": "stderr",
     "output_type": "stream",
     "text": [
      "100%|██████████| 391/391 [01:08<00:00,  5.74batch/s, Loss: 1.7008]\n"
     ]
    },
    {
     "metadata": {
      "tags": null
     },
     "name": "stdout",
     "output_type": "stream",
     "text": [
      "Test Accuracy: 0.6997\n",
      "\n",
      "Epoch: 3/30\n"
     ]
    },
    {
     "metadata": {
      "tags": null
     },
     "name": "stderr",
     "output_type": "stream",
     "text": [
      "100%|██████████| 391/391 [01:08<00:00,  5.74batch/s, Loss: 1.6981]\n"
     ]
    },
    {
     "metadata": {
      "tags": null
     },
     "name": "stdout",
     "output_type": "stream",
     "text": [
      "Test Accuracy: 0.6976\n",
      "\n",
      "Epoch: 4/30\n"
     ]
    },
    {
     "output_type": "stream",
     "name": "stderr",
     "text": [
      "100%|██████████| 391/391 [01:08<00:00,  5.73batch/s, Loss: 1.6962]\n"
     ]
    },
    {
     "output_type": "stream",
     "name": "stdout",
     "text": [
      "Test Accuracy: 0.7001\n",
      "\n",
      "Epoch: 5/30\n"
     ]
    },
    {
     "output_type": "stream",
     "name": "stderr",
     "text": [
      "100%|██████████| 391/391 [01:08<00:00,  5.74batch/s, Loss: 1.6949]\n"
     ]
    },
    {
     "output_type": "stream",
     "name": "stdout",
     "text": [
      "Test Accuracy: 0.7018\n",
      "\n",
      "Epoch: 6/30\n"
     ]
    },
    {
     "output_type": "stream",
     "name": "stderr",
     "text": [
      "100%|██████████| 391/391 [01:08<00:00,  5.73batch/s, Loss: 1.6944]\n"
     ]
    },
    {
     "output_type": "stream",
     "name": "stdout",
     "text": [
      "Test Accuracy: 0.7050\n",
      "\n",
      "Epoch: 7/30\n"
     ]
    },
    {
     "output_type": "stream",
     "name": "stderr",
     "text": [
      "100%|██████████| 391/391 [01:08<00:00,  5.74batch/s, Loss: 1.6936]\n"
     ]
    },
    {
     "output_type": "stream",
     "name": "stdout",
     "text": [
      "Test Accuracy: 0.7052\n",
      "\n",
      "Epoch: 8/30\n"
     ]
    },
    {
     "output_type": "stream",
     "name": "stderr",
     "text": [
      "100%|██████████| 391/391 [01:08<00:00,  5.74batch/s, Loss: 1.6927]\n"
     ]
    },
    {
     "output_type": "stream",
     "name": "stdout",
     "text": [
      "Test Accuracy: 0.7039\n",
      "\n",
      "Epoch: 9/30\n"
     ]
    },
    {
     "output_type": "stream",
     "name": "stderr",
     "text": [
      "100%|██████████| 391/391 [01:08<00:00,  5.74batch/s, Loss: 1.6922]\n"
     ]
    },
    {
     "output_type": "stream",
     "name": "stdout",
     "text": [
      "Test Accuracy: 0.7038\n",
      "\n",
      "Epoch: 10/30\n"
     ]
    },
    {
     "output_type": "stream",
     "name": "stderr",
     "text": [
      "100%|██████████| 391/391 [01:08<00:00,  5.74batch/s, Loss: 1.6920]\n"
     ]
    },
    {
     "output_type": "stream",
     "name": "stdout",
     "text": [
      "Test Accuracy: 0.7034\n",
      "\n",
      "Epoch: 11/30\n"
     ]
    },
    {
     "output_type": "stream",
     "name": "stderr",
     "text": [
      "100%|██████████| 391/391 [01:08<00:00,  5.74batch/s, Loss: 1.6917]\n"
     ]
    },
    {
     "output_type": "stream",
     "name": "stdout",
     "text": [
      "Test Accuracy: 0.7022\n",
      "\n",
      "Epoch: 12/30\n"
     ]
    },
    {
     "output_type": "stream",
     "name": "stderr",
     "text": [
      "100%|██████████| 391/391 [01:08<00:00,  5.74batch/s, Loss: 1.6917]\n"
     ]
    },
    {
     "output_type": "stream",
     "name": "stdout",
     "text": [
      "Test Accuracy: 0.7056\n",
      "\n",
      "Epoch: 13/30\n"
     ]
    },
    {
     "output_type": "stream",
     "name": "stderr",
     "text": [
      "100%|██████████| 391/391 [01:08<00:00,  5.74batch/s, Loss: 1.6909]\n"
     ]
    },
    {
     "output_type": "stream",
     "name": "stdout",
     "text": [
      "Test Accuracy: 0.7056\n",
      "\n",
      "Epoch: 14/30\n"
     ]
    },
    {
     "output_type": "stream",
     "name": "stderr",
     "text": [
      "100%|██████████| 391/391 [01:08<00:00,  5.73batch/s, Loss: 1.6904]\n"
     ]
    },
    {
     "output_type": "stream",
     "name": "stdout",
     "text": [
      "Test Accuracy: 0.7046\n",
      "\n",
      "Epoch: 15/30\n"
     ]
    },
    {
     "output_type": "stream",
     "name": "stderr",
     "text": [
      "100%|██████████| 391/391 [01:08<00:00,  5.73batch/s, Loss: 1.6898]\n"
     ]
    },
    {
     "output_type": "stream",
     "name": "stdout",
     "text": [
      "Test Accuracy: 0.7058\n",
      "\n",
      "Epoch: 16/30\n"
     ]
    },
    {
     "output_type": "stream",
     "name": "stderr",
     "text": [
      "100%|██████████| 391/391 [01:08<00:00,  5.74batch/s, Loss: 1.6897]\n"
     ]
    },
    {
     "output_type": "stream",
     "name": "stdout",
     "text": [
      "Test Accuracy: 0.7045\n",
      "\n",
      "Epoch: 17/30\n"
     ]
    },
    {
     "output_type": "stream",
     "name": "stderr",
     "text": [
      "100%|██████████| 391/391 [01:08<00:00,  5.74batch/s, Loss: 1.6894]\n"
     ]
    },
    {
     "output_type": "stream",
     "name": "stdout",
     "text": [
      "Test Accuracy: 0.7044\n",
      "\n",
      "Epoch: 18/30\n"
     ]
    },
    {
     "output_type": "stream",
     "name": "stderr",
     "text": [
      "100%|██████████| 391/391 [01:08<00:00,  5.73batch/s, Loss: 1.6889]\n"
     ]
    },
    {
     "output_type": "stream",
     "name": "stdout",
     "text": [
      "Test Accuracy: 0.7064\n",
      "\n",
      "Epoch: 19/30\n"
     ]
    },
    {
     "output_type": "stream",
     "name": "stderr",
     "text": [
      "  2%|▏         | 6/391 [00:01<01:24,  4.58batch/s, Loss: 1.6760]\n"
     ]
    },
    {
     "output_type": "error",
     "ename": "KeyboardInterrupt",
     "evalue": "",
     "traceback": [
      "\u001B[0;31m---------------------------------------------------------------------------\u001B[0m",
      "\u001B[0;31mKeyboardInterrupt\u001B[0m                         Traceback (most recent call last)",
      "\u001B[0;32m<ipython-input-53-f0a0f9d0ee15>\u001B[0m in \u001B[0;36m<cell line: 1>\u001B[0;34m()\u001B[0m\n\u001B[0;32m----> 1\u001B[0;31m \u001B[0mtrain_model\u001B[0m\u001B[0;34m(\u001B[0m\u001B[0mmodel_3b_5_250\u001B[0m\u001B[0;34m,\u001B[0m \u001B[0mtrain_loader\u001B[0m\u001B[0;34m,\u001B[0m \u001B[0mtest_loader\u001B[0m\u001B[0;34m,\u001B[0m \u001B[0mloss_sn\u001B[0m\u001B[0;34m,\u001B[0m \u001B[0;36m30\u001B[0m\u001B[0;34m,\u001B[0m \u001B[0moptimizer_sg_001\u001B[0m\u001B[0;34m,\u001B[0m \u001B[0mdevice\u001B[0m\u001B[0;34m)\u001B[0m \u001B[0;31m# 0.0001 - 12 epochs don, 69.41%\u001B[0m\u001B[0;34m\u001B[0m\u001B[0;34m\u001B[0m\u001B[0m\n\u001B[0m",
      "\u001B[0;32m<ipython-input-44-665e1306175f>\u001B[0m in \u001B[0;36mtrain_model\u001B[0;34m(model, train_loader, test_loader, loss_fn, num_epochs, optimizer, device)\u001B[0m\n\u001B[1;32m     28\u001B[0m         \u001B[0moptimizer\u001B[0m\u001B[0;34m.\u001B[0m\u001B[0mstep\u001B[0m\u001B[0;34m(\u001B[0m\u001B[0;34m)\u001B[0m\u001B[0;34m\u001B[0m\u001B[0;34m\u001B[0m\u001B[0m\n\u001B[1;32m     29\u001B[0m \u001B[0;34m\u001B[0m\u001B[0m\n\u001B[0;32m---> 30\u001B[0;31m         \u001B[0mtrain_loss\u001B[0m \u001B[0;34m+=\u001B[0m \u001B[0mloss\u001B[0m\u001B[0;34m.\u001B[0m\u001B[0mitem\u001B[0m\u001B[0;34m(\u001B[0m\u001B[0;34m)\u001B[0m\u001B[0;34m\u001B[0m\u001B[0;34m\u001B[0m\u001B[0m\n\u001B[0m\u001B[1;32m     31\u001B[0m         \u001B[0mnum_batches\u001B[0m \u001B[0;34m+=\u001B[0m \u001B[0;36m1\u001B[0m\u001B[0;34m\u001B[0m\u001B[0;34m\u001B[0m\u001B[0m\n\u001B[1;32m     32\u001B[0m \u001B[0;34m\u001B[0m\u001B[0m\n",
      "\u001B[0;31mKeyboardInterrupt\u001B[0m: "
     ]
    }
   ]
  },
  {
   "cell_type": "code",
   "source": [
    "train_model(model_3b_5_250, train_loader, test_loader, loss_sn, num_epochs_30, optimizer_adam_01, device) # Fail"
   ],
   "metadata": {
    "id": "iwHm5knNR2cb"
   },
   "id": "iwHm5knNR2cb",
   "execution_count": null,
   "outputs": []
  },
  {
   "cell_type": "code",
   "source": [
    "torch.save(model_3b_5_250.state_dict(), \"final_model_3b_5_250.pth\")"
   ],
   "metadata": {
    "id": "Hn3NayS7QH9w"
   },
   "id": "Hn3NayS7QH9w",
   "execution_count": null,
   "outputs": []
  },
  {
   "cell_type": "code",
   "source": [
    "# Later, to retrain the model:\n",
    "retrain_model = SE_NET_reloaded()  # Create a new instance of your model architecture\n",
    "\n",
    "# Load the saved state dictionary (weights and architecture)\n",
    "retrain_model.load_state_dict(torch.load(\"model.pth\"))\n",
    "\n",
    "# Now you can use 'retrain_model' for further training with additional data"
   ],
   "metadata": {
    "id": "J8CkD_RIRd07"
   },
   "id": "J8CkD_RIRd07",
   "execution_count": null,
   "outputs": []
  },
  {
   "cell_type": "markdown",
   "source": [
    "## model_3b_10_250"
   ],
   "metadata": {
    "id": "9eH0IfEsTUWy"
   },
   "id": "9eH0IfEsTUWy"
  },
  {
   "cell_type": "code",
   "source": [
    "model_3b_10_250 = SE_NET(block_configs=[10, 10, 10], channel_configs=[50, 100, 250])"
   ],
   "metadata": {
    "id": "M8yEG3AiTTYH"
   },
   "execution_count": null,
   "outputs": [],
   "id": "M8yEG3AiTTYH"
  },
  {
   "cell_type": "code",
   "source": [
    "# Adam\n",
    "optimizer_adam_001 = torch.optim.Adam(model_3b_10_250.parameters(), lr=lr_001)\n",
    "optimizer_adam_01 = torch.optim.Adam(model_3b_10_250.parameters(), lr=lr_01)"
   ],
   "metadata": {
    "id": "CGlp_R2CTTYQ"
   },
   "execution_count": null,
   "outputs": [],
   "id": "CGlp_R2CTTYQ"
  },
  {
   "cell_type": "code",
   "source": [
    "train_model(model_3b_10_250, train_loader, test_loader, loss_sn, num_epochs_30, optimizer_adam_001, device) # It is ok 52.56%"
   ],
   "metadata": {
    "colab": {
     "base_uri": "https://localhost:8080/",
     "height": 1000
    },
    "id": "-L51Pf9hTTYQ",
    "outputId": "edc8612b-1836-4e38-b0a7-6fdf8a1457a4"
   },
   "execution_count": null,
   "outputs": [
    {
     "output_type": "stream",
     "name": "stdout",
     "text": [
      "\n",
      "Epoch: 1/30\n"
     ]
    },
    {
     "output_type": "stream",
     "name": "stderr",
     "text": [
      "100%|██████████| 391/391 [02:13<00:00,  2.93batch/s, Loss: 2.2835]\n"
     ]
    },
    {
     "output_type": "stream",
     "name": "stdout",
     "text": [
      "Test Accuracy: 0.2234\n",
      "\n",
      "Epoch: 2/30\n"
     ]
    },
    {
     "output_type": "stream",
     "name": "stderr",
     "text": [
      "100%|██████████| 391/391 [02:13<00:00,  2.93batch/s, Loss: 2.2204]\n"
     ]
    },
    {
     "output_type": "stream",
     "name": "stdout",
     "text": [
      "Test Accuracy: 0.2281\n",
      "\n",
      "Epoch: 3/30\n"
     ]
    },
    {
     "output_type": "stream",
     "name": "stderr",
     "text": [
      "100%|██████████| 391/391 [02:13<00:00,  2.93batch/s, Loss: 2.2093]\n"
     ]
    },
    {
     "output_type": "stream",
     "name": "stdout",
     "text": [
      "Test Accuracy: 0.2389\n",
      "\n",
      "Epoch: 4/30\n"
     ]
    },
    {
     "output_type": "stream",
     "name": "stderr",
     "text": [
      "100%|██████████| 391/391 [02:13<00:00,  2.93batch/s, Loss: 2.1935]\n"
     ]
    },
    {
     "output_type": "stream",
     "name": "stdout",
     "text": [
      "Test Accuracy: 0.2887\n",
      "\n",
      "Epoch: 5/30\n"
     ]
    },
    {
     "output_type": "stream",
     "name": "stderr",
     "text": [
      "100%|██████████| 391/391 [02:13<00:00,  2.93batch/s, Loss: 2.1666]\n"
     ]
    },
    {
     "output_type": "stream",
     "name": "stdout",
     "text": [
      "Test Accuracy: 0.2998\n",
      "\n",
      "Epoch: 6/30\n"
     ]
    },
    {
     "output_type": "stream",
     "name": "stderr",
     "text": [
      "100%|██████████| 391/391 [02:13<00:00,  2.93batch/s, Loss: 2.1359]\n"
     ]
    },
    {
     "output_type": "stream",
     "name": "stdout",
     "text": [
      "Test Accuracy: 0.3386\n",
      "\n",
      "Epoch: 7/30\n"
     ]
    },
    {
     "output_type": "stream",
     "name": "stderr",
     "text": [
      "100%|██████████| 391/391 [02:13<00:00,  2.93batch/s, Loss: 2.1107]\n"
     ]
    },
    {
     "output_type": "stream",
     "name": "stdout",
     "text": [
      "Test Accuracy: 0.3703\n",
      "\n",
      "Epoch: 8/30\n"
     ]
    },
    {
     "output_type": "stream",
     "name": "stderr",
     "text": [
      "100%|██████████| 391/391 [02:13<00:00,  2.93batch/s, Loss: 2.0886]\n"
     ]
    },
    {
     "output_type": "stream",
     "name": "stdout",
     "text": [
      "Test Accuracy: 0.3871\n",
      "\n",
      "Epoch: 9/30\n"
     ]
    },
    {
     "output_type": "stream",
     "name": "stderr",
     "text": [
      "100%|██████████| 391/391 [02:13<00:00,  2.93batch/s, Loss: 2.0659]\n"
     ]
    },
    {
     "output_type": "stream",
     "name": "stdout",
     "text": [
      "Test Accuracy: 0.4124\n",
      "\n",
      "Epoch: 10/30\n"
     ]
    },
    {
     "output_type": "stream",
     "name": "stderr",
     "text": [
      "100%|██████████| 391/391 [02:13<00:00,  2.93batch/s, Loss: 2.0556]\n"
     ]
    },
    {
     "output_type": "stream",
     "name": "stdout",
     "text": [
      "Test Accuracy: 0.4091\n",
      "\n",
      "Epoch: 11/30\n"
     ]
    },
    {
     "output_type": "stream",
     "name": "stderr",
     "text": [
      "100%|██████████| 391/391 [02:13<00:00,  2.93batch/s, Loss: 2.0414]\n"
     ]
    },
    {
     "output_type": "stream",
     "name": "stdout",
     "text": [
      "Test Accuracy: 0.4135\n",
      "\n",
      "Epoch: 12/30\n"
     ]
    },
    {
     "output_type": "stream",
     "name": "stderr",
     "text": [
      "100%|██████████| 391/391 [02:13<00:00,  2.93batch/s, Loss: 2.0317]\n"
     ]
    },
    {
     "output_type": "stream",
     "name": "stdout",
     "text": [
      "Test Accuracy: 0.4253\n",
      "\n",
      "Epoch: 13/30\n"
     ]
    },
    {
     "output_type": "stream",
     "name": "stderr",
     "text": [
      "100%|██████████| 391/391 [02:13<00:00,  2.93batch/s, Loss: 2.0226]\n"
     ]
    },
    {
     "output_type": "stream",
     "name": "stdout",
     "text": [
      "Test Accuracy: 0.4302\n",
      "\n",
      "Epoch: 14/30\n"
     ]
    },
    {
     "output_type": "stream",
     "name": "stderr",
     "text": [
      "100%|██████████| 391/391 [02:13<00:00,  2.93batch/s, Loss: 2.0163]\n"
     ]
    },
    {
     "output_type": "stream",
     "name": "stdout",
     "text": [
      "Test Accuracy: 0.4466\n",
      "\n",
      "Epoch: 15/30\n"
     ]
    },
    {
     "output_type": "stream",
     "name": "stderr",
     "text": [
      "100%|██████████| 391/391 [02:13<00:00,  2.93batch/s, Loss: 2.0095]\n"
     ]
    },
    {
     "output_type": "stream",
     "name": "stdout",
     "text": [
      "Test Accuracy: 0.4478\n",
      "\n",
      "Epoch: 16/30\n"
     ]
    },
    {
     "output_type": "stream",
     "name": "stderr",
     "text": [
      "100%|██████████| 391/391 [02:13<00:00,  2.93batch/s, Loss: 2.0026]\n"
     ]
    },
    {
     "output_type": "stream",
     "name": "stdout",
     "text": [
      "Test Accuracy: 0.4591\n",
      "\n",
      "Epoch: 17/30\n"
     ]
    },
    {
     "output_type": "stream",
     "name": "stderr",
     "text": [
      "100%|██████████| 391/391 [02:13<00:00,  2.93batch/s, Loss: 1.9927]\n"
     ]
    },
    {
     "output_type": "stream",
     "name": "stdout",
     "text": [
      "Test Accuracy: 0.4572\n",
      "\n",
      "Epoch: 18/30\n"
     ]
    },
    {
     "output_type": "stream",
     "name": "stderr",
     "text": [
      "100%|██████████| 391/391 [02:13<00:00,  2.94batch/s, Loss: 1.9802]\n"
     ]
    },
    {
     "output_type": "stream",
     "name": "stdout",
     "text": [
      "Test Accuracy: 0.4440\n",
      "\n",
      "Epoch: 19/30\n"
     ]
    },
    {
     "output_type": "stream",
     "name": "stderr",
     "text": [
      "100%|██████████| 391/391 [02:13<00:00,  2.94batch/s, Loss: 1.9754]\n"
     ]
    },
    {
     "output_type": "stream",
     "name": "stdout",
     "text": [
      "Test Accuracy: 0.4583\n",
      "\n",
      "Epoch: 20/30\n"
     ]
    },
    {
     "output_type": "stream",
     "name": "stderr",
     "text": [
      "100%|██████████| 391/391 [02:13<00:00,  2.93batch/s, Loss: 1.9679]\n"
     ]
    },
    {
     "output_type": "stream",
     "name": "stdout",
     "text": [
      "Test Accuracy: 0.5051\n",
      "\n",
      "Epoch: 21/30\n"
     ]
    },
    {
     "output_type": "stream",
     "name": "stderr",
     "text": [
      "100%|██████████| 391/391 [02:13<00:00,  2.94batch/s, Loss: 1.9631]\n"
     ]
    },
    {
     "output_type": "stream",
     "name": "stdout",
     "text": [
      "Test Accuracy: 0.5037\n",
      "\n",
      "Epoch: 22/30\n"
     ]
    },
    {
     "output_type": "stream",
     "name": "stderr",
     "text": [
      "100%|██████████| 391/391 [02:13<00:00,  2.94batch/s, Loss: 1.9540]\n"
     ]
    },
    {
     "output_type": "stream",
     "name": "stdout",
     "text": [
      "Test Accuracy: 0.4377\n",
      "\n",
      "Epoch: 23/30\n"
     ]
    },
    {
     "output_type": "stream",
     "name": "stderr",
     "text": [
      "100%|██████████| 391/391 [02:12<00:00,  2.94batch/s, Loss: 1.9479]\n"
     ]
    },
    {
     "output_type": "stream",
     "name": "stdout",
     "text": [
      "Test Accuracy: 0.5003\n",
      "\n",
      "Epoch: 24/30\n"
     ]
    },
    {
     "output_type": "stream",
     "name": "stderr",
     "text": [
      "100%|██████████| 391/391 [02:13<00:00,  2.94batch/s, Loss: 1.9452]\n"
     ]
    },
    {
     "output_type": "stream",
     "name": "stdout",
     "text": [
      "Test Accuracy: 0.4871\n",
      "\n",
      "Epoch: 25/30\n"
     ]
    },
    {
     "output_type": "stream",
     "name": "stderr",
     "text": [
      "100%|██████████| 391/391 [02:13<00:00,  2.94batch/s, Loss: 1.9383]\n"
     ]
    },
    {
     "output_type": "stream",
     "name": "stdout",
     "text": [
      "Test Accuracy: 0.5059\n",
      "\n",
      "Epoch: 26/30\n"
     ]
    },
    {
     "output_type": "stream",
     "name": "stderr",
     "text": [
      "100%|██████████| 391/391 [02:13<00:00,  2.94batch/s, Loss: 1.9339]\n"
     ]
    },
    {
     "output_type": "stream",
     "name": "stdout",
     "text": [
      "Test Accuracy: 0.5256\n",
      "\n",
      "Epoch: 27/30\n"
     ]
    },
    {
     "output_type": "stream",
     "name": "stderr",
     "text": [
      " 44%|████▍     | 173/391 [00:59<01:14,  2.92batch/s, Loss: 1.9309]\n"
     ]
    },
    {
     "output_type": "error",
     "ename": "KeyboardInterrupt",
     "evalue": "",
     "traceback": [
      "\u001B[0;31m---------------------------------------------------------------------------\u001B[0m",
      "\u001B[0;31mKeyboardInterrupt\u001B[0m                         Traceback (most recent call last)",
      "\u001B[0;32m<ipython-input-42-72df822774f1>\u001B[0m in \u001B[0;36m<cell line: 1>\u001B[0;34m()\u001B[0m\n\u001B[0;32m----> 1\u001B[0;31m \u001B[0mtrain_model\u001B[0m\u001B[0;34m(\u001B[0m\u001B[0mmodel_3b_10_250\u001B[0m\u001B[0;34m,\u001B[0m \u001B[0mtrain_loader\u001B[0m\u001B[0;34m,\u001B[0m \u001B[0mtest_loader\u001B[0m\u001B[0;34m,\u001B[0m \u001B[0mloss_sn\u001B[0m\u001B[0;34m,\u001B[0m \u001B[0mnum_epochs_30\u001B[0m\u001B[0;34m,\u001B[0m \u001B[0moptimizer_adam_001\u001B[0m\u001B[0;34m,\u001B[0m \u001B[0mdevice\u001B[0m\u001B[0;34m)\u001B[0m \u001B[0;31m#\u001B[0m\u001B[0;34m\u001B[0m\u001B[0;34m\u001B[0m\u001B[0m\n\u001B[0m",
      "\u001B[0;32m<ipython-input-6-17be412d2823>\u001B[0m in \u001B[0;36mtrain_model\u001B[0;34m(model, train_loader, test_loader, loss_fn, num_epochs, optimizer, device)\u001B[0m\n\u001B[1;32m     28\u001B[0m         \u001B[0moptimizer\u001B[0m\u001B[0;34m.\u001B[0m\u001B[0mstep\u001B[0m\u001B[0;34m(\u001B[0m\u001B[0;34m)\u001B[0m\u001B[0;34m\u001B[0m\u001B[0;34m\u001B[0m\u001B[0m\n\u001B[1;32m     29\u001B[0m \u001B[0;34m\u001B[0m\u001B[0m\n\u001B[0;32m---> 30\u001B[0;31m         \u001B[0mtrain_loss\u001B[0m \u001B[0;34m+=\u001B[0m \u001B[0mloss\u001B[0m\u001B[0;34m.\u001B[0m\u001B[0mitem\u001B[0m\u001B[0;34m(\u001B[0m\u001B[0;34m)\u001B[0m\u001B[0;34m\u001B[0m\u001B[0;34m\u001B[0m\u001B[0m\n\u001B[0m\u001B[1;32m     31\u001B[0m         \u001B[0mnum_batches\u001B[0m \u001B[0;34m+=\u001B[0m \u001B[0;36m1\u001B[0m\u001B[0;34m\u001B[0m\u001B[0;34m\u001B[0m\u001B[0m\n\u001B[1;32m     32\u001B[0m \u001B[0;34m\u001B[0m\u001B[0m\n",
      "\u001B[0;31mKeyboardInterrupt\u001B[0m: "
     ]
    }
   ],
   "id": "-L51Pf9hTTYQ"
  },
  {
   "cell_type": "code",
   "source": [
    "train_model(model_3b_10_250, train_loader, test_loader, loss_sn, num_epochs_30, optimizer_adam_01, device) # FAIL"
   ],
   "metadata": {
    "id": "2D7MF0bzTTYQ"
   },
   "execution_count": null,
   "outputs": [],
   "id": "2D7MF0bzTTYQ"
  },
  {
   "cell_type": "code",
   "source": [],
   "metadata": {
    "id": "VFkwkgaLbZId"
   },
   "id": "VFkwkgaLbZId",
   "execution_count": null,
   "outputs": []
  }
 ],
 "metadata": {
  "kernelspec": {
   "display_name": "Python 3",
   "name": "python3"
  },
  "language_info": {
   "codemirror_mode": {
    "name": "ipython",
    "version": 2
   },
   "file_extension": ".py",
   "mimetype": "text/x-python",
   "name": "python",
   "nbconvert_exporter": "python",
   "pygments_lexer": "ipython2",
   "version": "2.7.6"
  },
  "colab": {
   "provenance": [],
   "gpuType": "L4"
  },
  "accelerator": "GPU"
 },
 "nbformat": 4,
 "nbformat_minor": 5
}
