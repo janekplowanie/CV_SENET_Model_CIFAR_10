{
  "cells": [
    {
      "cell_type": "code",
      "outputs": [
        {
          "output_type": "stream",
          "name": "stdout",
          "text": [
            "Mounted at /content/gdrive\n"
          ]
        }
      ],
      "source": [
        "from google.colab import drive\n",
        "drive.mount('/content/gdrive', force_remount=True)\n",
        "import sys\n",
        "sys.path.append('/content/gdrive/MyDrive/Colab Notebooks/Neural Networks Project')"
      ],
      "metadata": {
        "colab": {
          "base_uri": "https://localhost:8080/"
        },
        "id": "164a9167615b93b1",
        "outputId": "8b9c361f-77df-400f-ee33-8dab5c8956e3"
      },
      "id": "164a9167615b93b1",
      "execution_count": null
    },
    {
      "cell_type": "code",
      "outputs": [],
      "source": [
        "import torch\n",
        "from torchvision import datasets, transforms\n",
        "from torch import nn\n",
        "import torch.nn.functional as F\n",
        "import my_utils as mu\n",
        "import matplotlib.pyplot as plt\n",
        "import numpy as np\n",
        "from tqdm import tqdm\n",
        "import matplotlib.pyplot as plt"
      ],
      "metadata": {
        "ExecuteTime": {
          "end_time": "2024-03-29T17:27:43.364185Z",
          "start_time": "2024-03-29T17:27:43.357494Z"
        },
        "id": "bcbf69baabe3bfcd"
      },
      "id": "bcbf69baabe3bfcd",
      "execution_count": null
    },
    {
      "cell_type": "code",
      "outputs": [],
      "source": [
        "data_path = './Data'\n",
        "batch_size = 128  # 128"
      ],
      "metadata": {
        "ExecuteTime": {
          "end_time": "2024-03-29T17:27:43.751784Z",
          "start_time": "2024-03-29T17:27:43.749904Z"
        },
        "id": "929ef1da1df9813a"
      },
      "id": "929ef1da1df9813a",
      "execution_count": null
    },
    {
      "cell_type": "code",
      "outputs": [
        {
          "output_type": "stream",
          "name": "stdout",
          "text": [
            "Downloading https://www.cs.toronto.edu/~kriz/cifar-10-python.tar.gz to ./Data/cifar-10-python.tar.gz\n"
          ]
        },
        {
          "output_type": "stream",
          "name": "stderr",
          "text": [
            "100%|██████████| 170498071/170498071 [00:04<00:00, 42504568.09it/s]\n"
          ]
        },
        {
          "output_type": "stream",
          "name": "stdout",
          "text": [
            "Extracting ./Data/cifar-10-python.tar.gz to ./Data\n",
            "Files already downloaded and verified\n"
          ]
        }
      ],
      "source": [
        "transform = transforms.Compose([transforms.ToTensor()])\n",
        "\n",
        "# Load training and test datasets\n",
        "train_dataset = datasets.CIFAR10(root=data_path, train=True, download=True, transform=transform)\n",
        "test_dataset = datasets.CIFAR10(root=data_path, train=False, download=True, transform=transform)\n",
        "\n",
        "# Create data loaders\n",
        "train_loader = torch.utils.data.DataLoader(train_dataset, batch_size=batch_size, shuffle=True, num_workers=2)\n",
        "test_loader = torch.utils.data.DataLoader(test_dataset, batch_size=batch_size, shuffle=False, num_workers=2)"
      ],
      "metadata": {
        "ExecuteTime": {
          "end_time": "2024-03-29T17:27:45.846176Z",
          "start_time": "2024-03-29T17:27:44.172079Z"
        },
        "colab": {
          "base_uri": "https://localhost:8080/"
        },
        "id": "c50084f8c0f6037a",
        "outputId": "33cd7a41-eec5-413d-a1ff-bb6c10c06c58"
      },
      "id": "c50084f8c0f6037a",
      "execution_count": null
    },
    {
      "cell_type": "markdown",
      "source": [
        "**<=====================================================================>**\n",
        "# My current approach\n",
        "**<=====================================================================>**"
      ],
      "metadata": {
        "id": "eiAwr2IJ5ZXo"
      },
      "id": "eiAwr2IJ5ZXo"
    },
    {
      "cell_type": "code",
      "source": [
        "def evaluate_model(model, data_loader, device):\n",
        "  \"\"\"\n",
        "  Evaluates the model on the given data loader.\n",
        "\n",
        "  Args:\n",
        "      model (nn.Module): The model to evaluate.\n",
        "      data_loader (DataLoader): The data loader for the data (test or validation).\n",
        "      device (torch.device): The device to use for evaluation (e.g., \"cuda\" for GPU).\n",
        "\n",
        "  Returns:\n",
        "      float: The accuracy of the model on the data.\n",
        "  \"\"\"\n",
        "\n",
        "  model.eval()  # Set model to evaluation mode\n",
        "  correct = 0\n",
        "  total = 0\n",
        "\n",
        "  with torch.no_grad():\n",
        "    for images, labels in data_loader:\n",
        "      images, labels = images.to(device), labels.to(device)\n",
        "      outputs = model(images)\n",
        "      _, predicted = torch.max(outputs.data, 1)\n",
        "      total += labels.size(0)\n",
        "      correct += (predicted == labels).sum().item()\n",
        "\n",
        "  return correct / total"
      ],
      "metadata": {
        "id": "ArRBY3VLoNx1"
      },
      "id": "ArRBY3VLoNx1",
      "execution_count": null,
      "outputs": []
    },
    {
      "cell_type": "code",
      "source": [
        "def train_model(model, train_loader, test_loader, loss_fn, num_epochs, optimizer, device):\n",
        "  model.to(device)\n",
        "  train_loss_history = []\n",
        "  train_acc_history = []\n",
        "  test_acc_history = []\n",
        "\n",
        "  for epoch in range(num_epochs):\n",
        "    print(f\"\\nEpoch: {epoch+1}/{num_epochs}\")\n",
        "\n",
        "    # Training Loop\n",
        "    model.train()\n",
        "    train_loss = 0.0\n",
        "    num_batches = 0\n",
        "    correct = 0\n",
        "    total = 0\n",
        "\n",
        "    with tqdm(train_loader, unit=\"batch\") as pbar:\n",
        "      for images, labels in pbar:\n",
        "        images, labels = images.to(device), labels.to(device)\n",
        "\n",
        "        # Forward Pass\n",
        "        outputs = model(images)\n",
        "        loss = loss_fn(outputs, labels)\n",
        "\n",
        "        # Backward Pass and Update\n",
        "        optimizer.zero_grad()\n",
        "        loss.backward()\n",
        "        optimizer.step()\n",
        "\n",
        "        train_loss += loss.item()\n",
        "        num_batches += 1\n",
        "\n",
        "        # Calculate training accuracy within the loop\n",
        "        _, predicted = torch.max(outputs.data, 1)\n",
        "        total += labels.size(0)\n",
        "        correct += (predicted == labels).sum().item()\n",
        "\n",
        "        pbar.set_postfix_str(f\"Loss: {train_loss/num_batches:.4f}\")\n",
        "\n",
        "    train_loss_history.append(train_loss/num_batches)\n",
        "    train_acc_history.append(correct / total)\n",
        "\n",
        "    # Evaluation (optional)\n",
        "    test_acc = evaluate_model(model, test_loader, device)\n",
        "    test_acc_history.append(test_acc)\n",
        "    print(f\"Test Accuracy: {test_acc:.4f}\")\n",
        "\n",
        "  # Plot Train Loss, Train Accuracy and Test Accuracy\n",
        "  plt.figure(figsize=(7, 5))\n",
        "  plt.plot(train_loss_history, label=\"Train Loss\")\n",
        "  plt.plot(train_acc_history, label=\"Train Accuracy\")\n",
        "  plt.plot(test_acc_history, label=\"Test Accuracy\")\n",
        "  plt.xlabel(\"Epoch\")\n",
        "  plt.ylabel(\"Loss/Accuracy\")  # Adjusted label for combined plot\n",
        "  plt.title(\"Training Progress\")\n",
        "  plt.legend()\n",
        "  plt.grid(True)\n",
        "  plt.show()\n",
        "\n",
        "  return train_loss_history, test_acc_history"
      ],
      "metadata": {
        "id": "E8SdPy-sJWve"
      },
      "id": "E8SdPy-sJWve",
      "execution_count": null,
      "outputs": []
    },
    {
      "cell_type": "markdown",
      "source": [
        "\n",
        "![Screenshot 2024-04-07 at 19.08.15.png](data:image/png;base64,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)\n"
      ],
      "metadata": {
        "id": "ea5FRDs6WuAZ"
      },
      "id": "ea5FRDs6WuAZ"
    },
    {
      "cell_type": "markdown",
      "source": [
        "## The Model"
      ],
      "metadata": {
        "id": "0tN2aOVvyQjf"
      },
      "id": "0tN2aOVvyQjf"
    },
    {
      "cell_type": "code",
      "source": [
        "class CNN_Block(nn.Module):\n",
        "    def __init__(self, input_channels, output_channels, n_convs):\n",
        "        super(CNN_Block, self).__init__()\n",
        "        self.input_channels = input_channels\n",
        "        self.output_channels = output_channels\n",
        "        self.n_convs = n_convs\n",
        "\n",
        "        self.spatial_avg_pool = nn.AdaptiveAvgPool2d((1, 1))\n",
        "\n",
        "        self.linear_a = nn.Linear(input_channels, n_convs)\n",
        "\n",
        "        self.conv_layers = nn.ModuleList([nn.Conv2d(input_channels, output_channels, kernel_size=3, padding=1) for conv in range(n_convs)])\n",
        "\n",
        "        self.relu = nn.ReLU(inplace=True)\n",
        "        self.flatten = nn.Flatten()\n",
        "\n",
        "\n",
        "    def forward(self, x):\n",
        "        a = self.spatial_avg_pool(x)\n",
        "        a = self.flatten(a)\n",
        "\n",
        "        a = self.linear_a(a)\n",
        "        a = self.relu(a)\n",
        "\n",
        "        out = []\n",
        "        for i in range(self.n_convs):\n",
        "            out_i = self.conv_layers[i](x)  # Apply each conv to original data\n",
        "\n",
        "            out_i = self.relu(out_i)\n",
        "            out.append(out_i * a[0, i])\n",
        "\n",
        "        out_final = torch.sum(torch.stack(out), dim=0)  # Combine outputs\n",
        "        return out_final\n"
      ],
      "metadata": {
        "id": "oKqdvSF0Wmti"
      },
      "id": "oKqdvSF0Wmti",
      "execution_count": null,
      "outputs": []
    },
    {
      "cell_type": "code",
      "source": [
        "class SE_NET(nn.Module):\n",
        "    def __init__(self, block_configs, channel_configs, n_classes=10):\n",
        "        super(SE_NET, self).__init__()\n",
        "        self.n_classes = n_classes\n",
        "\n",
        "        # List to store the CNN blocks\n",
        "        self.conv_blocks = nn.ModuleList([])\n",
        "\n",
        "        # Input channels for the first block\n",
        "        in_channels = 3\n",
        "\n",
        "        # Create CNN blocks based on configurations\n",
        "        for i, (num_convs, out_channels) in enumerate(zip(block_configs, channel_configs)):\n",
        "            self.conv_blocks.append(CNN_Block(in_channels, out_channels, num_convs))\n",
        "            in_channels = out_channels\n",
        "\n",
        "        hidden_layer = int(in_channels/2)\n",
        "\n",
        "        self.spatial_avg_pool = nn.AdaptiveAvgPool2d((1, 1))\n",
        "\n",
        "        self.fc1 = nn.Linear(in_channels, int(in_channels/2))\n",
        "        self.fc2 = nn.Linear(int(in_channels/2), n_classes)\n",
        "        self.softmax = nn.Softmax(dim=1)\n",
        "        self.flatten = nn.Flatten()\n",
        "        self.relu = nn.ReLU(inplace=True)\n",
        "\n",
        "    def forward(self, x):\n",
        "        for block in self.conv_blocks:\n",
        "            x = block(x)\n",
        "\n",
        "        out = self.spatial_avg_pool(x)\n",
        "        out = self.flatten(out)\n",
        "\n",
        "        out = self.fc1(out)\n",
        "        out = self.relu(out)\n",
        "        out = self.fc2(out)\n",
        "\n",
        "        out = self.softmax(out)\n",
        "        return out\n"
      ],
      "metadata": {
        "id": "Fm7wAApAaja4"
      },
      "id": "Fm7wAApAaja4",
      "execution_count": null,
      "outputs": []
    },
    {
      "cell_type": "code",
      "outputs": [],
      "source": [
        "lr_01, lr_001, num_epochs_30, num_epochs_100  = 0.01, 0.001, 30, 100\n",
        "loss_sn = nn.CrossEntropyLoss()"
      ],
      "metadata": {
        "ExecuteTime": {
          "end_time": "2024-03-29T17:38:48.401259Z",
          "start_time": "2024-03-29T17:38:48.398444Z"
        },
        "id": "dd47aef08b6d9ce2"
      },
      "id": "dd47aef08b6d9ce2",
      "execution_count": null
    },
    {
      "cell_type": "code",
      "source": [
        "device = torch.device('cuda' if torch.cuda.is_available() else 'cpu') #choose device: cpu or gpu\n",
        "print('Using device:', device)"
      ],
      "metadata": {
        "colab": {
          "base_uri": "https://localhost:8080/"
        },
        "id": "GkmaiEiVGKgc",
        "outputId": "2def27d9-f30f-4d6d-b720-f0435757ea0a"
      },
      "id": "GkmaiEiVGKgc",
      "execution_count": null,
      "outputs": [
        {
          "output_type": "stream",
          "name": "stdout",
          "text": [
            "Using device: cuda\n"
          ]
        }
      ]
    },
    {
      "cell_type": "markdown",
      "source": [
        "## My training function"
      ],
      "metadata": {
        "id": "644MiCBBkXHh"
      },
      "id": "644MiCBBkXHh"
    },
    {
      "cell_type": "markdown",
      "source": [
        "1. The more convolutions the better\n",
        "2. The more channels the better\n",
        "3. Adam optimizer is superior"
      ],
      "metadata": {
        "id": "bCitRcRJStJT"
      },
      "id": "bCitRcRJStJT"
    },
    {
      "cell_type": "markdown",
      "source": [
        "## model_4b_5_150"
      ],
      "metadata": {
        "id": "dZKUhLceIDUm"
      },
      "id": "dZKUhLceIDUm"
    },
    {
      "cell_type": "code",
      "source": [
        "model_4b_5_150 = SE_NET(block_configs=[5, 5, 5, 5], channel_configs=[10, 25, 50, 150]) # block_configs=[5, 5, 5, 5], channel_configs=[10, 40, 80, 160] 10, 25, 50, 100\n",
        "print(model_4b_5_150)"
      ],
      "metadata": {
        "id": "ZJtTaLYnhyPO"
      },
      "id": "ZJtTaLYnhyPO",
      "execution_count": null,
      "outputs": []
    },
    {
      "cell_type": "code",
      "source": [
        "# Adam\n",
        "optimizer_adam_001 = torch.optim.Adam(model_4b_5_150.parameters(), lr=lr_001)\n",
        "optimizer_adam_01 = torch.optim.Adam(model_4b_5_150.parameters(), lr=lr_01)\n",
        "# SDG\n",
        "optimizer_sg_001 = torch.optim.SGD(model_4b_5_150.parameters(), lr=lr_001)\n",
        "optimizer_sg_01 = torch.optim.SGD(model_4b_5_150.parameters(), lr=lr_01)"
      ],
      "metadata": {
        "id": "FCExX7kbLwo9"
      },
      "id": "FCExX7kbLwo9",
      "execution_count": null,
      "outputs": []
    },
    {
      "cell_type": "code",
      "source": [
        "train_model(model_4b_5_150, train_loader, test_loader, loss_sn, num_epochs_30, optimizer_adam_001, device)"
      ],
      "metadata": {
        "id": "_PdKlNNlMEn5"
      },
      "id": "_PdKlNNlMEn5",
      "execution_count": null,
      "outputs": []
    },
    {
      "cell_type": "code",
      "source": [
        "train_model(model_4b_5_150, train_loader, test_loader, loss_sn, num_epochs_30, optimizer_sg_001, device)"
      ],
      "metadata": {
        "id": "OX_-JfL_Ez-r"
      },
      "id": "OX_-JfL_Ez-r",
      "execution_count": null,
      "outputs": []
    },
    {
      "cell_type": "markdown",
      "source": [
        "## model_3b_3_50"
      ],
      "metadata": {
        "id": "vWTgESbEHzaQ"
      },
      "id": "vWTgESbEHzaQ"
    },
    {
      "cell_type": "code",
      "source": [
        "model_3b_3_50 = SE_NET(block_configs=[3, 3, 3], channel_configs=[10, 25, 50])"
      ],
      "metadata": {
        "id": "9n_5WdwwSm4o"
      },
      "id": "9n_5WdwwSm4o",
      "execution_count": null,
      "outputs": []
    },
    {
      "cell_type": "code",
      "source": [
        "# Adam\n",
        "optimizer_adam_001 = torch.optim.Adam(model_3b_3_50.parameters(), lr=lr_001)\n",
        "optimizer_adam_01 = torch.optim.Adam(model_3b_3_50.parameters(), lr=lr_01)\n",
        "# SDG\n",
        "optimizer_sg_001 = torch.optim.SGD(model_3b_3_50.parameters(), lr=lr_001)\n",
        "optimizer_sg_01 = torch.optim.SGD(model_3b_3_50.parameters(), lr=lr_01)"
      ],
      "metadata": {
        "id": "dQUX13-rMBEu"
      },
      "id": "dQUX13-rMBEu",
      "execution_count": null,
      "outputs": []
    },
    {
      "cell_type": "code",
      "source": [
        "train_model(model_3b_3_50, train_loader, test_loader, loss_sn, num_epochs_30, optimizer_adam_001, device) # FAIL"
      ],
      "metadata": {
        "id": "AR_9sPJXMLMN"
      },
      "id": "AR_9sPJXMLMN",
      "execution_count": null,
      "outputs": []
    },
    {
      "cell_type": "code",
      "source": [
        "train_model(model_3b_3_50, train_loader, test_loader, loss_sn, num_epochs_30, optimizer_adam_01, device) # FAIL"
      ],
      "metadata": {
        "id": "s6X-2EvgNxrl"
      },
      "id": "s6X-2EvgNxrl",
      "execution_count": null,
      "outputs": []
    },
    {
      "cell_type": "code",
      "source": [
        "train_model(model_3b_3_50, train_loader, test_loader, loss_sn, num_epochs_30, optimizer_sg_001, device) # FAIL"
      ],
      "metadata": {
        "id": "a4xA5MraMexO"
      },
      "id": "a4xA5MraMexO",
      "execution_count": null,
      "outputs": []
    },
    {
      "cell_type": "markdown",
      "source": [
        "## model_3b_5_50"
      ],
      "metadata": {
        "id": "K62j4MLeHyBJ"
      },
      "id": "K62j4MLeHyBJ"
    },
    {
      "cell_type": "code",
      "source": [
        "model_3b_5_50 = SE_NET(block_configs=[5, 5, 5], channel_configs=[10, 25, 50])"
      ],
      "metadata": {
        "id": "D-gYdlC5Hy98"
      },
      "id": "D-gYdlC5Hy98",
      "execution_count": null,
      "outputs": []
    },
    {
      "cell_type": "code",
      "source": [
        "# Adam\n",
        "optimizer_adam_001 = torch.optim.Adam(model_3b_5_50.parameters(), lr=lr_001)\n",
        "optimizer_adam_01 = torch.optim.Adam(model_3b_5_50.parameters(), lr=lr_01)\n",
        "# SDG\n",
        "optimizer_sg_001 = torch.optim.SGD(model_3b_5_50.parameters(), lr=lr_001)\n",
        "optimizer_sg_01 = torch.optim.SGD(model_3b_5_50.parameters(), lr=lr_01)"
      ],
      "metadata": {
        "id": "0uaUCvjAMoCt"
      },
      "execution_count": null,
      "outputs": [],
      "id": "0uaUCvjAMoCt"
    },
    {
      "cell_type": "code",
      "source": [
        "train_model(model_3b_5_50, train_loader, test_loader, loss_sn, num_epochs_30, optimizer_adam_001, device) # Success 45.48%"
      ],
      "metadata": {
        "id": "LAtNmO7AMoCu"
      },
      "execution_count": null,
      "outputs": [],
      "id": "LAtNmO7AMoCu"
    },
    {
      "cell_type": "code",
      "source": [
        "train_model(model_3b_5_50, train_loader, test_loader, loss_sn, num_epochs_30, optimizer_sg_001, device) # FAIL it doesn't learn"
      ],
      "metadata": {
        "id": "i9mEiQsgMoCu"
      },
      "execution_count": null,
      "outputs": [],
      "id": "i9mEiQsgMoCu"
    },
    {
      "cell_type": "markdown",
      "source": [
        "## model_3b_3_250"
      ],
      "metadata": {
        "id": "siwj8CBoH25a"
      },
      "id": "siwj8CBoH25a"
    },
    {
      "cell_type": "code",
      "source": [
        "model_3b_3_250 = SE_NET(block_configs=[3, 3, 3], channel_configs=[50, 100, 250])"
      ],
      "metadata": {
        "id": "sVch7ZeuH2c5"
      },
      "id": "sVch7ZeuH2c5",
      "execution_count": null,
      "outputs": []
    },
    {
      "cell_type": "code",
      "source": [
        "# Adam\n",
        "optimizer_adam_001 = torch.optim.Adam(model_3b_3_250.parameters(), lr=lr_001)\n",
        "optimizer_adam_01 = torch.optim.Adam(model_3b_3_250.parameters(), lr=lr_01)\n",
        "# SDG\n",
        "optimizer_sg_001 = torch.optim.SGD(model_3b_3_250.parameters(), lr=lr_001)\n",
        "optimizer_sg_01 = torch.optim.SGD(model_3b_3_250.parameters(), lr=lr_01)"
      ],
      "metadata": {
        "id": "L-XgpccRM4A_"
      },
      "execution_count": null,
      "outputs": [],
      "id": "L-XgpccRM4A_"
    },
    {
      "cell_type": "code",
      "source": [
        "train_model(model_3b_5_50, train_loader, test_loader, loss_sn, num_epochs_30, optimizer_adam_001, device) # FAIL"
      ],
      "metadata": {
        "id": "-ysLh5a8M4BA"
      },
      "execution_count": null,
      "outputs": [],
      "id": "-ysLh5a8M4BA"
    },
    {
      "cell_type": "code",
      "source": [
        "train_model(model_3b_5_50, train_loader, test_loader, loss_sn, num_epochs_30, optimizer_sg_001, device) # FAIL"
      ],
      "metadata": {
        "id": "K_JMr4R7M4BB"
      },
      "execution_count": null,
      "outputs": [],
      "id": "K_JMr4R7M4BB"
    },
    {
      "cell_type": "markdown",
      "source": [
        "## model_3b_5_250"
      ],
      "metadata": {
        "id": "UHvM38N9KWn4"
      },
      "id": "UHvM38N9KWn4"
    },
    {
      "cell_type": "code",
      "source": [
        "model_3b_5_250 = SE_NET(block_configs=[5, 5, 5], channel_configs=[50, 100, 250])"
      ],
      "metadata": {
        "id": "8a9BLqaIKaLp"
      },
      "id": "8a9BLqaIKaLp",
      "execution_count": null,
      "outputs": []
    },
    {
      "cell_type": "code",
      "source": [
        "# Adam\n",
        "optimizer_adam_001 = torch.optim.Adam(model_3b_5_250.parameters(), lr=lr_001)\n",
        "optimizer_adam_01 = torch.optim.Adam(model_3b_5_250.parameters(), lr=lr_01)\n",
        "# SDG\n",
        "optimizer_sg_001 = torch.optim.SGD(model_3b_5_250.parameters(), lr=lr_001)\n",
        "optimizer_sg_01 = torch.optim.SGD(model_3b_5_250.parameters(), lr=lr_01)"
      ],
      "metadata": {
        "id": "PodoVhLYQ99U"
      },
      "id": "PodoVhLYQ99U",
      "execution_count": null,
      "outputs": []
    },
    {
      "cell_type": "code",
      "source": [
        "train_model(model_3b_5_250, train_loader, test_loader, loss_sn, num_epochs_30, optimizer_adam_001, device) # Success 56.7%"
      ],
      "metadata": {
        "colab": {
          "base_uri": "https://localhost:8080/",
          "height": 1000
        },
        "id": "cUP9ZO1dQ_GL",
        "outputId": "74fdf48f-32ee-4322-9743-021523c65f45"
      },
      "id": "cUP9ZO1dQ_GL",
      "execution_count": null,
      "outputs": [
        {
          "output_type": "stream",
          "name": "stdout",
          "text": [
            "\n",
            "Epoch: 1/30\n"
          ]
        },
        {
          "output_type": "stream",
          "name": "stderr",
          "text": [
            "100%|██████████| 391/391 [01:09<00:00,  5.67batch/s, Loss: 2.2385]\n"
          ]
        },
        {
          "output_type": "stream",
          "name": "stdout",
          "text": [
            "Test Accuracy: 0.2186\n",
            "\n",
            "Epoch: 2/30\n"
          ]
        },
        {
          "output_type": "stream",
          "name": "stderr",
          "text": [
            "100%|██████████| 391/391 [01:08<00:00,  5.69batch/s, Loss: 2.1998]\n"
          ]
        },
        {
          "output_type": "stream",
          "name": "stdout",
          "text": [
            "Test Accuracy: 0.2874\n",
            "\n",
            "Epoch: 3/30\n"
          ]
        },
        {
          "output_type": "stream",
          "name": "stderr",
          "text": [
            "100%|██████████| 391/391 [01:08<00:00,  5.69batch/s, Loss: 2.1564]\n"
          ]
        },
        {
          "output_type": "stream",
          "name": "stdout",
          "text": [
            "Test Accuracy: 0.3196\n",
            "\n",
            "Epoch: 4/30\n"
          ]
        },
        {
          "output_type": "stream",
          "name": "stderr",
          "text": [
            "100%|██████████| 391/391 [01:08<00:00,  5.69batch/s, Loss: 2.1281]\n"
          ]
        },
        {
          "output_type": "stream",
          "name": "stdout",
          "text": [
            "Test Accuracy: 0.3440\n",
            "\n",
            "Epoch: 5/30\n"
          ]
        },
        {
          "output_type": "stream",
          "name": "stderr",
          "text": [
            "100%|██████████| 391/391 [01:08<00:00,  5.70batch/s, Loss: 2.1049]\n"
          ]
        },
        {
          "output_type": "stream",
          "name": "stdout",
          "text": [
            "Test Accuracy: 0.3383\n",
            "\n",
            "Epoch: 6/30\n"
          ]
        },
        {
          "output_type": "stream",
          "name": "stderr",
          "text": [
            "100%|██████████| 391/391 [01:08<00:00,  5.70batch/s, Loss: 2.0849]\n"
          ]
        },
        {
          "output_type": "stream",
          "name": "stdout",
          "text": [
            "Test Accuracy: 0.3860\n",
            "\n",
            "Epoch: 7/30\n"
          ]
        },
        {
          "output_type": "stream",
          "name": "stderr",
          "text": [
            "100%|██████████| 391/391 [01:08<00:00,  5.70batch/s, Loss: 2.0656]\n"
          ]
        },
        {
          "output_type": "stream",
          "name": "stdout",
          "text": [
            "Test Accuracy: 0.4007\n",
            "\n",
            "Epoch: 8/30\n"
          ]
        },
        {
          "output_type": "stream",
          "name": "stderr",
          "text": [
            "100%|██████████| 391/391 [01:08<00:00,  5.71batch/s, Loss: 2.0593]\n"
          ]
        },
        {
          "output_type": "stream",
          "name": "stdout",
          "text": [
            "Test Accuracy: 0.4199\n",
            "\n",
            "Epoch: 9/30\n"
          ]
        },
        {
          "output_type": "stream",
          "name": "stderr",
          "text": [
            "100%|██████████| 391/391 [01:08<00:00,  5.71batch/s, Loss: 2.0447]\n"
          ]
        },
        {
          "output_type": "stream",
          "name": "stdout",
          "text": [
            "Test Accuracy: 0.4329\n",
            "\n",
            "Epoch: 10/30\n"
          ]
        },
        {
          "output_type": "stream",
          "name": "stderr",
          "text": [
            "100%|██████████| 391/391 [01:08<00:00,  5.71batch/s, Loss: 2.0264]\n"
          ]
        },
        {
          "output_type": "stream",
          "name": "stdout",
          "text": [
            "Test Accuracy: 0.4467\n",
            "\n",
            "Epoch: 11/30\n"
          ]
        },
        {
          "output_type": "stream",
          "name": "stderr",
          "text": [
            "100%|██████████| 391/391 [01:08<00:00,  5.71batch/s, Loss: 2.0188]\n"
          ]
        },
        {
          "output_type": "stream",
          "name": "stdout",
          "text": [
            "Test Accuracy: 0.4603\n",
            "\n",
            "Epoch: 12/30\n"
          ]
        },
        {
          "output_type": "stream",
          "name": "stderr",
          "text": [
            "100%|██████████| 391/391 [01:08<00:00,  5.71batch/s, Loss: 2.0056]\n"
          ]
        },
        {
          "output_type": "stream",
          "name": "stdout",
          "text": [
            "Test Accuracy: 0.4120\n",
            "\n",
            "Epoch: 13/30\n"
          ]
        },
        {
          "output_type": "stream",
          "name": "stderr",
          "text": [
            "100%|██████████| 391/391 [01:08<00:00,  5.71batch/s, Loss: 1.9955]\n"
          ]
        },
        {
          "output_type": "stream",
          "name": "stdout",
          "text": [
            "Test Accuracy: 0.4467\n",
            "\n",
            "Epoch: 14/30\n"
          ]
        },
        {
          "output_type": "stream",
          "name": "stderr",
          "text": [
            "100%|██████████| 391/391 [01:08<00:00,  5.71batch/s, Loss: 1.9888]\n"
          ]
        },
        {
          "output_type": "stream",
          "name": "stdout",
          "text": [
            "Test Accuracy: 0.4835\n",
            "\n",
            "Epoch: 15/30\n"
          ]
        },
        {
          "output_type": "stream",
          "name": "stderr",
          "text": [
            "100%|██████████| 391/391 [01:08<00:00,  5.71batch/s, Loss: 1.9820]\n"
          ]
        },
        {
          "output_type": "stream",
          "name": "stdout",
          "text": [
            "Test Accuracy: 0.4844\n",
            "\n",
            "Epoch: 16/30\n"
          ]
        },
        {
          "output_type": "stream",
          "name": "stderr",
          "text": [
            "100%|██████████| 391/391 [01:08<00:00,  5.72batch/s, Loss: 1.9708]\n"
          ]
        },
        {
          "output_type": "stream",
          "name": "stdout",
          "text": [
            "Test Accuracy: 0.4876\n",
            "\n",
            "Epoch: 17/30\n"
          ]
        },
        {
          "output_type": "stream",
          "name": "stderr",
          "text": [
            "100%|██████████| 391/391 [01:08<00:00,  5.72batch/s, Loss: 1.9620]\n"
          ]
        },
        {
          "output_type": "stream",
          "name": "stdout",
          "text": [
            "Test Accuracy: 0.4968\n",
            "\n",
            "Epoch: 18/30\n"
          ]
        },
        {
          "output_type": "stream",
          "name": "stderr",
          "text": [
            "100%|██████████| 391/391 [01:08<00:00,  5.72batch/s, Loss: 1.9554]\n"
          ]
        },
        {
          "output_type": "stream",
          "name": "stdout",
          "text": [
            "Test Accuracy: 0.5051\n",
            "\n",
            "Epoch: 19/30\n"
          ]
        },
        {
          "output_type": "stream",
          "name": "stderr",
          "text": [
            "100%|██████████| 391/391 [01:08<00:00,  5.72batch/s, Loss: 1.9460]\n"
          ]
        },
        {
          "output_type": "stream",
          "name": "stdout",
          "text": [
            "Test Accuracy: 0.5163\n",
            "\n",
            "Epoch: 20/30\n"
          ]
        },
        {
          "output_type": "stream",
          "name": "stderr",
          "text": [
            "100%|██████████| 391/391 [01:08<00:00,  5.72batch/s, Loss: 1.9390]\n"
          ]
        },
        {
          "output_type": "stream",
          "name": "stdout",
          "text": [
            "Test Accuracy: 0.5226\n",
            "\n",
            "Epoch: 21/30\n"
          ]
        },
        {
          "output_type": "stream",
          "name": "stderr",
          "text": [
            "100%|██████████| 391/391 [01:08<00:00,  5.72batch/s, Loss: 1.9341]\n"
          ]
        },
        {
          "output_type": "stream",
          "name": "stdout",
          "text": [
            "Test Accuracy: 0.5335\n",
            "\n",
            "Epoch: 22/30\n"
          ]
        },
        {
          "output_type": "stream",
          "name": "stderr",
          "text": [
            "100%|██████████| 391/391 [01:08<00:00,  5.72batch/s, Loss: 1.9240]\n"
          ]
        },
        {
          "output_type": "stream",
          "name": "stdout",
          "text": [
            "Test Accuracy: 0.5271\n",
            "\n",
            "Epoch: 23/30\n"
          ]
        },
        {
          "output_type": "stream",
          "name": "stderr",
          "text": [
            "100%|██████████| 391/391 [01:08<00:00,  5.72batch/s, Loss: 1.9201]\n"
          ]
        },
        {
          "output_type": "stream",
          "name": "stdout",
          "text": [
            "Test Accuracy: 0.5288\n",
            "\n",
            "Epoch: 24/30\n"
          ]
        },
        {
          "output_type": "stream",
          "name": "stderr",
          "text": [
            "100%|██████████| 391/391 [01:08<00:00,  5.72batch/s, Loss: 1.9122]\n"
          ]
        },
        {
          "output_type": "stream",
          "name": "stdout",
          "text": [
            "Test Accuracy: 0.5411\n",
            "\n",
            "Epoch: 25/30\n"
          ]
        },
        {
          "output_type": "stream",
          "name": "stderr",
          "text": [
            "100%|██████████| 391/391 [01:08<00:00,  5.72batch/s, Loss: 1.9106]\n"
          ]
        },
        {
          "output_type": "stream",
          "name": "stdout",
          "text": [
            "Test Accuracy: 0.5109\n",
            "\n",
            "Epoch: 26/30\n"
          ]
        },
        {
          "output_type": "stream",
          "name": "stderr",
          "text": [
            "100%|██████████| 391/391 [01:08<00:00,  5.72batch/s, Loss: 1.9070]\n"
          ]
        },
        {
          "output_type": "stream",
          "name": "stdout",
          "text": [
            "Test Accuracy: 0.5555\n",
            "\n",
            "Epoch: 27/30\n"
          ]
        },
        {
          "output_type": "stream",
          "name": "stderr",
          "text": [
            "100%|██████████| 391/391 [01:08<00:00,  5.72batch/s, Loss: 1.8963]\n"
          ]
        },
        {
          "output_type": "stream",
          "name": "stdout",
          "text": [
            "Test Accuracy: 0.5389\n",
            "\n",
            "Epoch: 28/30\n"
          ]
        },
        {
          "output_type": "stream",
          "name": "stderr",
          "text": [
            "100%|██████████| 391/391 [01:08<00:00,  5.72batch/s, Loss: 1.8916]\n"
          ]
        },
        {
          "output_type": "stream",
          "name": "stdout",
          "text": [
            "Test Accuracy: 0.5499\n",
            "\n",
            "Epoch: 29/30\n"
          ]
        },
        {
          "output_type": "stream",
          "name": "stderr",
          "text": [
            "100%|██████████| 391/391 [01:08<00:00,  5.72batch/s, Loss: 1.8828]\n"
          ]
        },
        {
          "output_type": "stream",
          "name": "stdout",
          "text": [
            "Test Accuracy: 0.5686\n",
            "\n",
            "Epoch: 30/30\n"
          ]
        },
        {
          "output_type": "stream",
          "name": "stderr",
          "text": [
            "100%|██████████| 391/391 [01:08<00:00,  5.72batch/s, Loss: 1.8786]\n"
          ]
        },
        {
          "output_type": "stream",
          "name": "stdout",
          "text": [
            "Test Accuracy: 0.5670\n"
          ]
        },
        {
          "output_type": "display_data",
          "data": {
            "text/plain": [
              "<Figure size 1000x500 with 1 Axes>"
            ],
            "image/png": "[encoded data removed]"
          },
          "metadata": {}
        },
        {
          "output_type": "execute_result",
          "data": {
            "text/plain": [
              "([2.238500786559356,\n",
              "  2.199764090730711,\n",
              "  2.156388641318397,\n",
              "  2.1280978402823134,\n",
              "  2.104932772838856,\n",
              "  2.0849472735543997,\n",
              "  2.065592119151064,\n",
              "  2.059341076085025,\n",
              "  2.044656817565489,\n",
              "  2.026420735032357,\n",
              "  2.018805149875943,\n",
              "  2.0055886638134033,\n",
              "  1.995502853332578,\n",
              "  1.9887557532781226,\n",
              "  1.9819512495299434,\n",
              "  1.970846029498693,\n",
              "  1.9619564982631323,\n",
              "  1.9553744545982927,\n",
              "  1.945998259517543,\n",
              "  1.9389729893116086,\n",
              "  1.9341426676191638,\n",
              "  1.923991335322485,\n",
              "  1.920076298896614,\n",
              "  1.9121915473962379,\n",
              "  1.910561902138888,\n",
              "  1.9069713311427086,\n",
              "  1.8962814631059652,\n",
              "  1.8915531653577409,\n",
              "  1.8828258675992335,\n",
              "  1.8785843843084467],\n",
              " [0.2186,\n",
              "  0.2874,\n",
              "  0.3196,\n",
              "  0.344,\n",
              "  0.3383,\n",
              "  0.386,\n",
              "  0.4007,\n",
              "  0.4199,\n",
              "  0.4329,\n",
              "  0.4467,\n",
              "  0.4603,\n",
              "  0.412,\n",
              "  0.4467,\n",
              "  0.4835,\n",
              "  0.4844,\n",
              "  0.4876,\n",
              "  0.4968,\n",
              "  0.5051,\n",
              "  0.5163,\n",
              "  0.5226,\n",
              "  0.5335,\n",
              "  0.5271,\n",
              "  0.5288,\n",
              "  0.5411,\n",
              "  0.5109,\n",
              "  0.5555,\n",
              "  0.5389,\n",
              "  0.5499,\n",
              "  0.5686,\n",
              "  0.567])"
            ]
          },
          "metadata": {},
          "execution_count": 33
        }
      ]
    },
    {
      "cell_type": "code",
      "source": [
        "train_model(model_3b_5_250, train_loader, test_loader, loss_sn, 70, optimizer_adam_001, device) # 63.8%"
      ],
      "metadata": {
        "colab": {
          "base_uri": "https://localhost:8080/",
          "height": 1000
        },
        "id": "XTJW2vHytaMA",
        "outputId": "cba0f4be-ce66-419c-c98f-67bf8d5fd1c1"
      },
      "id": "XTJW2vHytaMA",
      "execution_count": null,
      "outputs": [
        {
          "output_type": "stream",
          "name": "stdout",
          "text": [
            "\n",
            "Epoch: 1/70\n"
          ]
        },
        {
          "output_type": "stream",
          "name": "stderr",
          "text": [
            "100%|██████████| 391/391 [01:08<00:00,  5.69batch/s, Loss: 2.2575]\n"
          ]
        },
        {
          "output_type": "stream",
          "name": "stdout",
          "text": [
            "Test Accuracy: 0.2314\n",
            "\n",
            "Epoch: 2/70\n"
          ]
        },
        {
          "output_type": "stream",
          "name": "stderr",
          "text": [
            "100%|██████████| 391/391 [01:08<00:00,  5.70batch/s, Loss: 2.2069]\n"
          ]
        },
        {
          "output_type": "stream",
          "name": "stdout",
          "text": [
            "Test Accuracy: 0.2416\n",
            "\n",
            "Epoch: 3/70\n"
          ]
        },
        {
          "output_type": "stream",
          "name": "stderr",
          "text": [
            "100%|██████████| 391/391 [01:08<00:00,  5.70batch/s, Loss: 2.1669]\n"
          ]
        },
        {
          "output_type": "stream",
          "name": "stdout",
          "text": [
            "Test Accuracy: 0.3197\n",
            "\n",
            "Epoch: 4/70\n"
          ]
        },
        {
          "output_type": "stream",
          "name": "stderr",
          "text": [
            "100%|██████████| 391/391 [01:08<00:00,  5.70batch/s, Loss: 2.1324]\n"
          ]
        },
        {
          "output_type": "stream",
          "name": "stdout",
          "text": [
            "Test Accuracy: 0.3373\n",
            "\n",
            "Epoch: 5/70\n"
          ]
        },
        {
          "output_type": "stream",
          "name": "stderr",
          "text": [
            "100%|██████████| 391/391 [01:08<00:00,  5.71batch/s, Loss: 2.1033]\n"
          ]
        },
        {
          "output_type": "stream",
          "name": "stdout",
          "text": [
            "Test Accuracy: 0.3636\n",
            "\n",
            "Epoch: 6/70\n"
          ]
        },
        {
          "output_type": "stream",
          "name": "stderr",
          "text": [
            "100%|██████████| 391/391 [01:08<00:00,  5.71batch/s, Loss: 2.0826]\n"
          ]
        },
        {
          "output_type": "stream",
          "name": "stdout",
          "text": [
            "Test Accuracy: 0.4000\n",
            "\n",
            "Epoch: 7/70\n"
          ]
        },
        {
          "output_type": "stream",
          "name": "stderr",
          "text": [
            "100%|██████████| 391/391 [01:08<00:00,  5.70batch/s, Loss: 2.0625]\n"
          ]
        },
        {
          "output_type": "stream",
          "name": "stdout",
          "text": [
            "Test Accuracy: 0.4104\n",
            "\n",
            "Epoch: 8/70\n"
          ]
        },
        {
          "output_type": "stream",
          "name": "stderr",
          "text": [
            "100%|██████████| 391/391 [01:08<00:00,  5.71batch/s, Loss: 2.0494]\n"
          ]
        },
        {
          "output_type": "stream",
          "name": "stdout",
          "text": [
            "Test Accuracy: 0.4185\n",
            "\n",
            "Epoch: 9/70\n"
          ]
        },
        {
          "output_type": "stream",
          "name": "stderr",
          "text": [
            "100%|██████████| 391/391 [01:08<00:00,  5.71batch/s, Loss: 2.0297]\n"
          ]
        },
        {
          "output_type": "stream",
          "name": "stdout",
          "text": [
            "Test Accuracy: 0.4164\n",
            "\n",
            "Epoch: 10/70\n"
          ]
        },
        {
          "output_type": "stream",
          "name": "stderr",
          "text": [
            "100%|██████████| 391/391 [01:08<00:00,  5.71batch/s, Loss: 2.0142]\n"
          ]
        },
        {
          "output_type": "stream",
          "name": "stdout",
          "text": [
            "Test Accuracy: 0.4648\n",
            "\n",
            "Epoch: 11/70\n"
          ]
        },
        {
          "output_type": "stream",
          "name": "stderr",
          "text": [
            "100%|██████████| 391/391 [01:08<00:00,  5.71batch/s, Loss: 2.0000]\n"
          ]
        },
        {
          "output_type": "stream",
          "name": "stdout",
          "text": [
            "Test Accuracy: 0.3933\n",
            "\n",
            "Epoch: 12/70\n"
          ]
        },
        {
          "output_type": "stream",
          "name": "stderr",
          "text": [
            "100%|██████████| 391/391 [01:08<00:00,  5.71batch/s, Loss: 1.9907]\n"
          ]
        },
        {
          "output_type": "stream",
          "name": "stdout",
          "text": [
            "Test Accuracy: 0.4669\n",
            "\n",
            "Epoch: 13/70\n"
          ]
        },
        {
          "output_type": "stream",
          "name": "stderr",
          "text": [
            "100%|██████████| 391/391 [01:08<00:00,  5.72batch/s, Loss: 1.9811]\n"
          ]
        },
        {
          "output_type": "stream",
          "name": "stdout",
          "text": [
            "Test Accuracy: 0.4853\n",
            "\n",
            "Epoch: 14/70\n"
          ]
        },
        {
          "output_type": "stream",
          "name": "stderr",
          "text": [
            "100%|██████████| 391/391 [01:08<00:00,  5.71batch/s, Loss: 1.9601]\n"
          ]
        },
        {
          "output_type": "stream",
          "name": "stdout",
          "text": [
            "Test Accuracy: 0.4941\n",
            "\n",
            "Epoch: 15/70\n"
          ]
        },
        {
          "output_type": "stream",
          "name": "stderr",
          "text": [
            "100%|██████████| 391/391 [01:08<00:00,  5.71batch/s, Loss: 1.9538]\n"
          ]
        },
        {
          "output_type": "stream",
          "name": "stdout",
          "text": [
            "Test Accuracy: 0.4936\n",
            "\n",
            "Epoch: 16/70\n"
          ]
        },
        {
          "output_type": "stream",
          "name": "stderr",
          "text": [
            "100%|██████████| 391/391 [01:08<00:00,  5.71batch/s, Loss: 1.9460]\n"
          ]
        },
        {
          "output_type": "stream",
          "name": "stdout",
          "text": [
            "Test Accuracy: 0.5239\n",
            "\n",
            "Epoch: 17/70\n"
          ]
        },
        {
          "output_type": "stream",
          "name": "stderr",
          "text": [
            "100%|██████████| 391/391 [01:08<00:00,  5.72batch/s, Loss: 1.9371]\n"
          ]
        },
        {
          "output_type": "stream",
          "name": "stdout",
          "text": [
            "Test Accuracy: 0.4957\n",
            "\n",
            "Epoch: 18/70\n"
          ]
        },
        {
          "output_type": "stream",
          "name": "stderr",
          "text": [
            "100%|██████████| 391/391 [01:08<00:00,  5.72batch/s, Loss: 1.9271]\n"
          ]
        },
        {
          "output_type": "stream",
          "name": "stdout",
          "text": [
            "Test Accuracy: 0.5248\n",
            "\n",
            "Epoch: 19/70\n"
          ]
        },
        {
          "output_type": "stream",
          "name": "stderr",
          "text": [
            "100%|██████████| 391/391 [01:08<00:00,  5.72batch/s, Loss: 1.9250]\n"
          ]
        },
        {
          "output_type": "stream",
          "name": "stdout",
          "text": [
            "Test Accuracy: 0.5353\n",
            "\n",
            "Epoch: 20/70\n"
          ]
        },
        {
          "output_type": "stream",
          "name": "stderr",
          "text": [
            "100%|██████████| 391/391 [01:08<00:00,  5.72batch/s, Loss: 1.9168]\n"
          ]
        },
        {
          "output_type": "stream",
          "name": "stdout",
          "text": [
            "Test Accuracy: 0.5415\n",
            "\n",
            "Epoch: 21/70\n"
          ]
        },
        {
          "output_type": "stream",
          "name": "stderr",
          "text": [
            "100%|██████████| 391/391 [01:08<00:00,  5.72batch/s, Loss: 1.9097]\n"
          ]
        },
        {
          "output_type": "stream",
          "name": "stdout",
          "text": [
            "Test Accuracy: 0.5583\n",
            "\n",
            "Epoch: 22/70\n"
          ]
        },
        {
          "output_type": "stream",
          "name": "stderr",
          "text": [
            "100%|██████████| 391/391 [01:08<00:00,  5.72batch/s, Loss: 1.9046]\n"
          ]
        },
        {
          "output_type": "stream",
          "name": "stdout",
          "text": [
            "Test Accuracy: 0.5678\n",
            "\n",
            "Epoch: 23/70\n"
          ]
        },
        {
          "output_type": "stream",
          "name": "stderr",
          "text": [
            "100%|██████████| 391/391 [01:08<00:00,  5.72batch/s, Loss: 1.8956]\n"
          ]
        },
        {
          "output_type": "stream",
          "name": "stdout",
          "text": [
            "Test Accuracy: 0.5623\n",
            "\n",
            "Epoch: 24/70\n"
          ]
        },
        {
          "output_type": "stream",
          "name": "stderr",
          "text": [
            "100%|██████████| 391/391 [01:08<00:00,  5.72batch/s, Loss: 1.8902]\n"
          ]
        },
        {
          "output_type": "stream",
          "name": "stdout",
          "text": [
            "Test Accuracy: 0.5680\n",
            "\n",
            "Epoch: 25/70\n"
          ]
        },
        {
          "output_type": "stream",
          "name": "stderr",
          "text": [
            "100%|██████████| 391/391 [01:08<00:00,  5.72batch/s, Loss: 1.8861]\n"
          ]
        },
        {
          "output_type": "stream",
          "name": "stdout",
          "text": [
            "Test Accuracy: 0.5402\n",
            "\n",
            "Epoch: 26/70\n"
          ]
        },
        {
          "output_type": "stream",
          "name": "stderr",
          "text": [
            "100%|██████████| 391/391 [01:08<00:00,  5.72batch/s, Loss: 1.8831]\n"
          ]
        },
        {
          "output_type": "stream",
          "name": "stdout",
          "text": [
            "Test Accuracy: 0.5807\n",
            "\n",
            "Epoch: 27/70\n"
          ]
        },
        {
          "output_type": "stream",
          "name": "stderr",
          "text": [
            "100%|██████████| 391/391 [01:08<00:00,  5.72batch/s, Loss: 1.8806]\n"
          ]
        },
        {
          "output_type": "stream",
          "name": "stdout",
          "text": [
            "Test Accuracy: 0.5473\n",
            "\n",
            "Epoch: 28/70\n"
          ]
        },
        {
          "output_type": "stream",
          "name": "stderr",
          "text": [
            "100%|██████████| 391/391 [01:08<00:00,  5.72batch/s, Loss: 1.8750]\n"
          ]
        },
        {
          "output_type": "stream",
          "name": "stdout",
          "text": [
            "Test Accuracy: 0.5703\n",
            "\n",
            "Epoch: 29/70\n"
          ]
        },
        {
          "output_type": "stream",
          "name": "stderr",
          "text": [
            "100%|██████████| 391/391 [01:08<00:00,  5.72batch/s, Loss: 1.8653]\n"
          ]
        },
        {
          "output_type": "stream",
          "name": "stdout",
          "text": [
            "Test Accuracy: 0.5819\n",
            "\n",
            "Epoch: 30/70\n"
          ]
        },
        {
          "output_type": "stream",
          "name": "stderr",
          "text": [
            "100%|██████████| 391/391 [01:08<00:00,  5.72batch/s, Loss: 1.8676]\n"
          ]
        },
        {
          "output_type": "stream",
          "name": "stdout",
          "text": [
            "Test Accuracy: 0.5756\n",
            "\n",
            "Epoch: 31/70\n"
          ]
        },
        {
          "output_type": "stream",
          "name": "stderr",
          "text": [
            "100%|██████████| 391/391 [01:08<00:00,  5.72batch/s, Loss: 1.8647]\n"
          ]
        },
        {
          "output_type": "stream",
          "name": "stdout",
          "text": [
            "Test Accuracy: 0.5819\n",
            "\n",
            "Epoch: 32/70\n"
          ]
        },
        {
          "output_type": "stream",
          "name": "stderr",
          "text": [
            "100%|██████████| 391/391 [01:08<00:00,  5.72batch/s, Loss: 1.8616]\n"
          ]
        },
        {
          "output_type": "stream",
          "name": "stdout",
          "text": [
            "Test Accuracy: 0.5503\n",
            "\n",
            "Epoch: 33/70\n"
          ]
        },
        {
          "output_type": "stream",
          "name": "stderr",
          "text": [
            "100%|██████████| 391/391 [01:08<00:00,  5.72batch/s, Loss: 1.8611]\n"
          ]
        },
        {
          "output_type": "stream",
          "name": "stdout",
          "text": [
            "Test Accuracy: 0.5789\n",
            "\n",
            "Epoch: 34/70\n"
          ]
        },
        {
          "output_type": "stream",
          "name": "stderr",
          "text": [
            "100%|██████████| 391/391 [01:08<00:00,  5.73batch/s, Loss: 1.8458]\n"
          ]
        },
        {
          "output_type": "stream",
          "name": "stdout",
          "text": [
            "Test Accuracy: 0.5893\n",
            "\n",
            "Epoch: 35/70\n"
          ]
        },
        {
          "output_type": "stream",
          "name": "stderr",
          "text": [
            "100%|██████████| 391/391 [01:08<00:00,  5.72batch/s, Loss: 1.8445]\n"
          ]
        },
        {
          "output_type": "stream",
          "name": "stdout",
          "text": [
            "Test Accuracy: 0.6113\n",
            "\n",
            "Epoch: 36/70\n"
          ]
        },
        {
          "output_type": "stream",
          "name": "stderr",
          "text": [
            "100%|██████████| 391/391 [01:08<00:00,  5.73batch/s, Loss: 1.8431]\n"
          ]
        },
        {
          "output_type": "stream",
          "name": "stdout",
          "text": [
            "Test Accuracy: 0.6035\n",
            "\n",
            "Epoch: 37/70\n"
          ]
        },
        {
          "output_type": "stream",
          "name": "stderr",
          "text": [
            "100%|██████████| 391/391 [01:08<00:00,  5.72batch/s, Loss: 1.8378]\n"
          ]
        },
        {
          "output_type": "stream",
          "name": "stdout",
          "text": [
            "Test Accuracy: 0.6118\n",
            "\n",
            "Epoch: 38/70\n"
          ]
        },
        {
          "output_type": "stream",
          "name": "stderr",
          "text": [
            "100%|██████████| 391/391 [01:08<00:00,  5.72batch/s, Loss: 1.8350]\n"
          ]
        },
        {
          "output_type": "stream",
          "name": "stdout",
          "text": [
            "Test Accuracy: 0.5871\n",
            "\n",
            "Epoch: 39/70\n"
          ]
        },
        {
          "output_type": "stream",
          "name": "stderr",
          "text": [
            "100%|██████████| 391/391 [01:08<00:00,  5.73batch/s, Loss: 1.8420]\n"
          ]
        },
        {
          "output_type": "stream",
          "name": "stdout",
          "text": [
            "Test Accuracy: 0.6023\n",
            "\n",
            "Epoch: 40/70\n"
          ]
        },
        {
          "output_type": "stream",
          "name": "stderr",
          "text": [
            "100%|██████████| 391/391 [01:08<00:00,  5.72batch/s, Loss: 1.8359]\n"
          ]
        },
        {
          "output_type": "stream",
          "name": "stdout",
          "text": [
            "Test Accuracy: 0.6094\n",
            "\n",
            "Epoch: 41/70\n"
          ]
        },
        {
          "output_type": "stream",
          "name": "stderr",
          "text": [
            "100%|██████████| 391/391 [01:08<00:00,  5.72batch/s, Loss: 1.8286]\n"
          ]
        },
        {
          "output_type": "stream",
          "name": "stdout",
          "text": [
            "Test Accuracy: 0.5860\n",
            "\n",
            "Epoch: 42/70\n"
          ]
        },
        {
          "output_type": "stream",
          "name": "stderr",
          "text": [
            "100%|██████████| 391/391 [01:08<00:00,  5.73batch/s, Loss: 1.8353]\n"
          ]
        },
        {
          "output_type": "stream",
          "name": "stdout",
          "text": [
            "Test Accuracy: 0.6205\n",
            "\n",
            "Epoch: 43/70\n"
          ]
        },
        {
          "output_type": "stream",
          "name": "stderr",
          "text": [
            "100%|██████████| 391/391 [01:08<00:00,  5.72batch/s, Loss: 1.8255]\n"
          ]
        },
        {
          "output_type": "stream",
          "name": "stdout",
          "text": [
            "Test Accuracy: 0.5948\n",
            "\n",
            "Epoch: 44/70\n"
          ]
        },
        {
          "output_type": "stream",
          "name": "stderr",
          "text": [
            "100%|██████████| 391/391 [01:08<00:00,  5.73batch/s, Loss: 1.8232]\n"
          ]
        },
        {
          "output_type": "stream",
          "name": "stdout",
          "text": [
            "Test Accuracy: 0.6228\n",
            "\n",
            "Epoch: 45/70\n"
          ]
        },
        {
          "output_type": "stream",
          "name": "stderr",
          "text": [
            "100%|██████████| 391/391 [01:08<00:00,  5.73batch/s, Loss: 1.8250]\n"
          ]
        },
        {
          "output_type": "stream",
          "name": "stdout",
          "text": [
            "Test Accuracy: 0.6258\n",
            "\n",
            "Epoch: 46/70\n"
          ]
        },
        {
          "output_type": "stream",
          "name": "stderr",
          "text": [
            "100%|██████████| 391/391 [01:08<00:00,  5.72batch/s, Loss: 1.8143]\n"
          ]
        },
        {
          "output_type": "stream",
          "name": "stdout",
          "text": [
            "Test Accuracy: 0.6235\n",
            "\n",
            "Epoch: 47/70\n"
          ]
        },
        {
          "output_type": "stream",
          "name": "stderr",
          "text": [
            "100%|██████████| 391/391 [01:08<00:00,  5.73batch/s, Loss: 1.8220]\n"
          ]
        },
        {
          "output_type": "stream",
          "name": "stdout",
          "text": [
            "Test Accuracy: 0.6396\n",
            "\n",
            "Epoch: 48/70\n"
          ]
        },
        {
          "output_type": "stream",
          "name": "stderr",
          "text": [
            "100%|██████████| 391/391 [01:08<00:00,  5.73batch/s, Loss: 1.8076]\n"
          ]
        },
        {
          "output_type": "stream",
          "name": "stdout",
          "text": [
            "Test Accuracy: 0.6196\n",
            "\n",
            "Epoch: 49/70\n"
          ]
        },
        {
          "output_type": "stream",
          "name": "stderr",
          "text": [
            "100%|██████████| 391/391 [01:08<00:00,  5.72batch/s, Loss: 1.8129]\n"
          ]
        },
        {
          "output_type": "stream",
          "name": "stdout",
          "text": [
            "Test Accuracy: 0.6229\n",
            "\n",
            "Epoch: 50/70\n"
          ]
        },
        {
          "output_type": "stream",
          "name": "stderr",
          "text": [
            "100%|██████████| 391/391 [01:08<00:00,  5.73batch/s, Loss: 1.8102]\n"
          ]
        },
        {
          "output_type": "stream",
          "name": "stdout",
          "text": [
            "Test Accuracy: 0.6379\n",
            "\n",
            "Epoch: 51/70\n"
          ]
        },
        {
          "output_type": "stream",
          "name": "stderr",
          "text": [
            "100%|██████████| 391/391 [01:08<00:00,  5.73batch/s, Loss: 1.8011]\n"
          ]
        },
        {
          "output_type": "stream",
          "name": "stdout",
          "text": [
            "Test Accuracy: 0.6397\n",
            "\n",
            "Epoch: 52/70\n"
          ]
        },
        {
          "output_type": "stream",
          "name": "stderr",
          "text": [
            "100%|██████████| 391/391 [01:08<00:00,  5.73batch/s, Loss: 1.8023]\n"
          ]
        },
        {
          "output_type": "stream",
          "name": "stdout",
          "text": [
            "Test Accuracy: 0.6382\n",
            "\n",
            "Epoch: 53/70\n"
          ]
        },
        {
          "output_type": "stream",
          "name": "stderr",
          "text": [
            "100%|██████████| 391/391 [01:08<00:00,  5.73batch/s, Loss: 1.8072]\n"
          ]
        },
        {
          "output_type": "stream",
          "name": "stdout",
          "text": [
            "Test Accuracy: 0.6143\n",
            "\n",
            "Epoch: 54/70\n"
          ]
        },
        {
          "output_type": "stream",
          "name": "stderr",
          "text": [
            "100%|██████████| 391/391 [01:08<00:00,  5.72batch/s, Loss: 1.8026]\n"
          ]
        },
        {
          "output_type": "stream",
          "name": "stdout",
          "text": [
            "Test Accuracy: 0.6403\n",
            "\n",
            "Epoch: 55/70\n"
          ]
        },
        {
          "output_type": "stream",
          "name": "stderr",
          "text": [
            "100%|██████████| 391/391 [01:08<00:00,  5.73batch/s, Loss: 1.7954]\n"
          ]
        },
        {
          "output_type": "stream",
          "name": "stdout",
          "text": [
            "Test Accuracy: 0.6206\n",
            "\n",
            "Epoch: 56/70\n"
          ]
        },
        {
          "output_type": "stream",
          "name": "stderr",
          "text": [
            "100%|██████████| 391/391 [01:08<00:00,  5.73batch/s, Loss: 1.7958]\n"
          ]
        },
        {
          "output_type": "stream",
          "name": "stdout",
          "text": [
            "Test Accuracy: 0.6333\n",
            "\n",
            "Epoch: 57/70\n"
          ]
        },
        {
          "output_type": "stream",
          "name": "stderr",
          "text": [
            "100%|██████████| 391/391 [01:08<00:00,  5.73batch/s, Loss: 1.7932]\n"
          ]
        },
        {
          "output_type": "stream",
          "name": "stdout",
          "text": [
            "Test Accuracy: 0.6193\n",
            "\n",
            "Epoch: 58/70\n"
          ]
        },
        {
          "output_type": "stream",
          "name": "stderr",
          "text": [
            "100%|██████████| 391/391 [01:08<00:00,  5.73batch/s, Loss: 1.7912]\n"
          ]
        },
        {
          "output_type": "stream",
          "name": "stdout",
          "text": [
            "Test Accuracy: 0.6265\n",
            "\n",
            "Epoch: 59/70\n"
          ]
        },
        {
          "output_type": "stream",
          "name": "stderr",
          "text": [
            "100%|██████████| 391/391 [01:08<00:00,  5.73batch/s, Loss: 1.7870]\n"
          ]
        },
        {
          "output_type": "stream",
          "name": "stdout",
          "text": [
            "Test Accuracy: 0.6397\n",
            "\n",
            "Epoch: 60/70\n"
          ]
        },
        {
          "output_type": "stream",
          "name": "stderr",
          "text": [
            "100%|██████████| 391/391 [01:08<00:00,  5.73batch/s, Loss: 1.7841]\n"
          ]
        },
        {
          "output_type": "stream",
          "name": "stdout",
          "text": [
            "Test Accuracy: 0.6223\n",
            "\n",
            "Epoch: 61/70\n"
          ]
        },
        {
          "output_type": "stream",
          "name": "stderr",
          "text": [
            "100%|██████████| 391/391 [01:08<00:00,  5.73batch/s, Loss: 1.7874]\n"
          ]
        },
        {
          "output_type": "stream",
          "name": "stdout",
          "text": [
            "Test Accuracy: 0.6468\n",
            "\n",
            "Epoch: 62/70\n"
          ]
        },
        {
          "output_type": "stream",
          "name": "stderr",
          "text": [
            "100%|██████████| 391/391 [01:08<00:00,  5.73batch/s, Loss: 1.7820]\n"
          ]
        },
        {
          "output_type": "stream",
          "name": "stdout",
          "text": [
            "Test Accuracy: 0.6638\n",
            "\n",
            "Epoch: 63/70\n"
          ]
        },
        {
          "output_type": "stream",
          "name": "stderr",
          "text": [
            "100%|██████████| 391/391 [01:08<00:00,  5.73batch/s, Loss: 1.7787]\n"
          ]
        },
        {
          "output_type": "stream",
          "name": "stdout",
          "text": [
            "Test Accuracy: 0.6583\n",
            "\n",
            "Epoch: 64/70\n"
          ]
        },
        {
          "output_type": "stream",
          "name": "stderr",
          "text": [
            "100%|██████████| 391/391 [01:08<00:00,  5.73batch/s, Loss: 1.7780]\n"
          ]
        },
        {
          "output_type": "stream",
          "name": "stdout",
          "text": [
            "Test Accuracy: 0.6681\n",
            "\n",
            "Epoch: 65/70\n"
          ]
        },
        {
          "output_type": "stream",
          "name": "stderr",
          "text": [
            "100%|██████████| 391/391 [01:08<00:00,  5.73batch/s, Loss: 1.7775]\n"
          ]
        },
        {
          "output_type": "stream",
          "name": "stdout",
          "text": [
            "Test Accuracy: 0.6579\n",
            "\n",
            "Epoch: 66/70\n"
          ]
        },
        {
          "output_type": "stream",
          "name": "stderr",
          "text": [
            "100%|██████████| 391/391 [01:08<00:00,  5.73batch/s, Loss: 1.7847]\n"
          ]
        },
        {
          "output_type": "stream",
          "name": "stdout",
          "text": [
            "Test Accuracy: 0.6161\n",
            "\n",
            "Epoch: 67/70\n"
          ]
        },
        {
          "output_type": "stream",
          "name": "stderr",
          "text": [
            "100%|██████████| 391/391 [01:08<00:00,  5.73batch/s, Loss: 1.7784]\n"
          ]
        },
        {
          "output_type": "stream",
          "name": "stdout",
          "text": [
            "Test Accuracy: 0.6193\n",
            "\n",
            "Epoch: 68/70\n"
          ]
        },
        {
          "output_type": "stream",
          "name": "stderr",
          "text": [
            "100%|██████████| 391/391 [01:08<00:00,  5.73batch/s, Loss: 1.7675]\n"
          ]
        },
        {
          "output_type": "stream",
          "name": "stdout",
          "text": [
            "Test Accuracy: 0.6554\n",
            "\n",
            "Epoch: 69/70\n"
          ]
        },
        {
          "output_type": "stream",
          "name": "stderr",
          "text": [
            "100%|██████████| 391/391 [01:08<00:00,  5.73batch/s, Loss: 1.7783]\n"
          ]
        },
        {
          "output_type": "stream",
          "name": "stdout",
          "text": [
            "Test Accuracy: 0.6641\n",
            "\n",
            "Epoch: 70/70\n"
          ]
        },
        {
          "output_type": "stream",
          "name": "stderr",
          "text": [
            "100%|██████████| 391/391 [01:08<00:00,  5.73batch/s, Loss: 1.7708]\n"
          ]
        },
        {
          "output_type": "stream",
          "name": "stdout",
          "text": [
            "Test Accuracy: 0.6380\n"
          ]
        },
        {
          "output_type": "display_data",
          "data": {
            "text/plain": [
              "<Figure size 700x500 with 1 Axes>"
            ],
            "image/png": "[encoded data removed]"
          },
          "metadata": {}
        },
        {
          "output_type": "execute_result",
          "data": {
            "text/plain": [
              "([2.257548741367467,\n",
              "  2.2069060351232737,\n",
              "  2.166881042978038,\n",
              "  2.1323876920563487,\n",
              "  2.1033264069301087,\n",
              "  2.0825660576295975,\n",
              "  2.062472880648835,\n",
              "  2.0493769993257644,\n",
              "  2.0296964428918747,\n",
              "  2.0142496263279632,\n",
              "  2.000042794000767,\n",
              "  1.9906815692896733,\n",
              "  1.981073684094812,\n",
              "  1.9601281799013963,\n",
              "  1.9537578665691873,\n",
              "  1.9459571179831425,\n",
              "  1.9371270727928338,\n",
              "  1.9271303034194596,\n",
              "  1.9250052719164992,\n",
              "  1.9168337985987554,\n",
              "  1.9097161762549748,\n",
              "  1.9045606680843226,\n",
              "  1.8956341993473376,\n",
              "  1.8901639350539887,\n",
              "  1.8860747701371723,\n",
              "  1.8830665374350974,\n",
              "  1.8806320727633699,\n",
              "  1.8749738489575398,\n",
              "  1.8653111652949887,\n",
              "  1.8676207687543787,\n",
              "  1.8647229104395717,\n",
              "  1.8616296077323387,\n",
              "  1.861103543540096,\n",
              "  1.8458035632472514,\n",
              "  1.8444707576576096,\n",
              "  1.8430714875535892,\n",
              "  1.8377940209625323,\n",
              "  1.8350005759607495,\n",
              "  1.8419864994790547,\n",
              "  1.8358692442974471,\n",
              "  1.8285767666214263,\n",
              "  1.8353235898420328,\n",
              "  1.825540940474976,\n",
              "  1.8231678185865396,\n",
              "  1.8249614668624174,\n",
              "  1.8143412731492612,\n",
              "  1.8219619132673648,\n",
              "  1.807642777557568,\n",
              "  1.8128921256955628,\n",
              "  1.8102354131391287,\n",
              "  1.8011189936981786,\n",
              "  1.802294239363707,\n",
              "  1.8072458606241915,\n",
              "  1.8026121766366008,\n",
              "  1.7953759876968305,\n",
              "  1.7958004111829011,\n",
              "  1.7931678258549526,\n",
              "  1.791249984365595,\n",
              "  1.78703758631216,\n",
              "  1.7840753308952313,\n",
              "  1.7874364868149428,\n",
              "  1.782045407368399,\n",
              "  1.7787276177150209,\n",
              "  1.777957722049235,\n",
              "  1.7775215876986608,\n",
              "  1.7846698684765554,\n",
              "  1.77837446248135,\n",
              "  1.7675096988677979,\n",
              "  1.7783231518762497,\n",
              "  1.7708305943652491],\n",
              " [0.2314,\n",
              "  0.2416,\n",
              "  0.3197,\n",
              "  0.3373,\n",
              "  0.3636,\n",
              "  0.4,\n",
              "  0.4104,\n",
              "  0.4185,\n",
              "  0.4164,\n",
              "  0.4648,\n",
              "  0.3933,\n",
              "  0.4669,\n",
              "  0.4853,\n",
              "  0.4941,\n",
              "  0.4936,\n",
              "  0.5239,\n",
              "  0.4957,\n",
              "  0.5248,\n",
              "  0.5353,\n",
              "  0.5415,\n",
              "  0.5583,\n",
              "  0.5678,\n",
              "  0.5623,\n",
              "  0.568,\n",
              "  0.5402,\n",
              "  0.5807,\n",
              "  0.5473,\n",
              "  0.5703,\n",
              "  0.5819,\n",
              "  0.5756,\n",
              "  0.5819,\n",
              "  0.5503,\n",
              "  0.5789,\n",
              "  0.5893,\n",
              "  0.6113,\n",
              "  0.6035,\n",
              "  0.6118,\n",
              "  0.5871,\n",
              "  0.6023,\n",
              "  0.6094,\n",
              "  0.586,\n",
              "  0.6205,\n",
              "  0.5948,\n",
              "  0.6228,\n",
              "  0.6258,\n",
              "  0.6235,\n",
              "  0.6396,\n",
              "  0.6196,\n",
              "  0.6229,\n",
              "  0.6379,\n",
              "  0.6397,\n",
              "  0.6382,\n",
              "  0.6143,\n",
              "  0.6403,\n",
              "  0.6206,\n",
              "  0.6333,\n",
              "  0.6193,\n",
              "  0.6265,\n",
              "  0.6397,\n",
              "  0.6223,\n",
              "  0.6468,\n",
              "  0.6638,\n",
              "  0.6583,\n",
              "  0.6681,\n",
              "  0.6579,\n",
              "  0.6161,\n",
              "  0.6193,\n",
              "  0.6554,\n",
              "  0.6641,\n",
              "  0.638])"
            ]
          },
          "metadata": {},
          "execution_count": 47
        }
      ]
    },
    {
      "cell_type": "code",
      "source": [
        "optimizer_adam_0001 = torch.optim.Adam(model_3b_5_250.parameters(), lr=0.0001)"
      ],
      "metadata": {
        "id": "EhJAJ02wDDi1"
      },
      "id": "EhJAJ02wDDi1",
      "execution_count": null,
      "outputs": []
    },
    {
      "cell_type": "code",
      "source": [
        "optimizer_adam_0006 = torch.optim.Adam(model_3b_5_250.parameters(), lr=0.0006)"
      ],
      "metadata": {
        "id": "gFVrvQ1CG4bv"
      },
      "id": "gFVrvQ1CG4bv",
      "execution_count": null,
      "outputs": []
    },
    {
      "cell_type": "code",
      "source": [
        "# SDG\n",
        "optimizer_sg_001 = torch.optim.SGD(model_3b_5_250.parameters(), lr=lr_001)"
      ],
      "metadata": {
        "id": "h1tNJP1WLKL8"
      },
      "id": "h1tNJP1WLKL8",
      "execution_count": null,
      "outputs": []
    },
    {
      "cell_type": "code",
      "source": [
        "train_model(model_3b_5_250, train_loader, test_loader, loss_sn, 30, optimizer_sg_001, device) # 0.0001 - 12 epochs don, 69.41%, 70.64%"
      ],
      "metadata": {
        "colab": {
          "base_uri": "https://localhost:8080/",
          "height": 1000
        },
        "id": "_iTZ-N55CVL1",
        "outputId": "da3e6d91-17fa-4780-99f9-78696b604d74"
      },
      "id": "_iTZ-N55CVL1",
      "execution_count": null,
      "outputs": [
        {
          "metadata": {
            "tags": null
          },
          "name": "stdout",
          "output_type": "stream",
          "text": [
            "\n",
            "Epoch: 1/30\n"
          ]
        },
        {
          "metadata": {
            "tags": null
          },
          "name": "stderr",
          "output_type": "stream",
          "text": [
            "100%|██████████| 391/391 [01:08<00:00,  5.73batch/s, Loss: 1.7067]\n"
          ]
        },
        {
          "metadata": {
            "tags": null
          },
          "name": "stdout",
          "output_type": "stream",
          "text": [
            "Test Accuracy: 0.6981\n",
            "\n",
            "Epoch: 2/30\n"
          ]
        },
        {
          "metadata": {
            "tags": null
          },
          "name": "stderr",
          "output_type": "stream",
          "text": [
            "100%|██████████| 391/391 [01:08<00:00,  5.74batch/s, Loss: 1.7008]\n"
          ]
        },
        {
          "metadata": {
            "tags": null
          },
          "name": "stdout",
          "output_type": "stream",
          "text": [
            "Test Accuracy: 0.6997\n",
            "\n",
            "Epoch: 3/30\n"
          ]
        },
        {
          "metadata": {
            "tags": null
          },
          "name": "stderr",
          "output_type": "stream",
          "text": [
            "100%|██████████| 391/391 [01:08<00:00,  5.74batch/s, Loss: 1.6981]\n"
          ]
        },
        {
          "metadata": {
            "tags": null
          },
          "name": "stdout",
          "output_type": "stream",
          "text": [
            "Test Accuracy: 0.6976\n",
            "\n",
            "Epoch: 4/30\n"
          ]
        },
        {
          "output_type": "stream",
          "name": "stderr",
          "text": [
            "100%|██████████| 391/391 [01:08<00:00,  5.73batch/s, Loss: 1.6962]\n"
          ]
        },
        {
          "output_type": "stream",
          "name": "stdout",
          "text": [
            "Test Accuracy: 0.7001\n",
            "\n",
            "Epoch: 5/30\n"
          ]
        },
        {
          "output_type": "stream",
          "name": "stderr",
          "text": [
            "100%|██████████| 391/391 [01:08<00:00,  5.74batch/s, Loss: 1.6949]\n"
          ]
        },
        {
          "output_type": "stream",
          "name": "stdout",
          "text": [
            "Test Accuracy: 0.7018\n",
            "\n",
            "Epoch: 6/30\n"
          ]
        },
        {
          "output_type": "stream",
          "name": "stderr",
          "text": [
            "100%|██████████| 391/391 [01:08<00:00,  5.73batch/s, Loss: 1.6944]\n"
          ]
        },
        {
          "output_type": "stream",
          "name": "stdout",
          "text": [
            "Test Accuracy: 0.7050\n",
            "\n",
            "Epoch: 7/30\n"
          ]
        },
        {
          "output_type": "stream",
          "name": "stderr",
          "text": [
            "100%|██████████| 391/391 [01:08<00:00,  5.74batch/s, Loss: 1.6936]\n"
          ]
        },
        {
          "output_type": "stream",
          "name": "stdout",
          "text": [
            "Test Accuracy: 0.7052\n",
            "\n",
            "Epoch: 8/30\n"
          ]
        },
        {
          "output_type": "stream",
          "name": "stderr",
          "text": [
            "100%|██████████| 391/391 [01:08<00:00,  5.74batch/s, Loss: 1.6927]\n"
          ]
        },
        {
          "output_type": "stream",
          "name": "stdout",
          "text": [
            "Test Accuracy: 0.7039\n",
            "\n",
            "Epoch: 9/30\n"
          ]
        },
        {
          "output_type": "stream",
          "name": "stderr",
          "text": [
            "100%|██████████| 391/391 [01:08<00:00,  5.74batch/s, Loss: 1.6922]\n"
          ]
        },
        {
          "output_type": "stream",
          "name": "stdout",
          "text": [
            "Test Accuracy: 0.7038\n",
            "\n",
            "Epoch: 10/30\n"
          ]
        },
        {
          "output_type": "stream",
          "name": "stderr",
          "text": [
            "100%|██████████| 391/391 [01:08<00:00,  5.74batch/s, Loss: 1.6920]\n"
          ]
        },
        {
          "output_type": "stream",
          "name": "stdout",
          "text": [
            "Test Accuracy: 0.7034\n",
            "\n",
            "Epoch: 11/30\n"
          ]
        },
        {
          "output_type": "stream",
          "name": "stderr",
          "text": [
            "100%|██████████| 391/391 [01:08<00:00,  5.74batch/s, Loss: 1.6917]\n"
          ]
        },
        {
          "output_type": "stream",
          "name": "stdout",
          "text": [
            "Test Accuracy: 0.7022\n",
            "\n",
            "Epoch: 12/30\n"
          ]
        },
        {
          "output_type": "stream",
          "name": "stderr",
          "text": [
            "100%|██████████| 391/391 [01:08<00:00,  5.74batch/s, Loss: 1.6917]\n"
          ]
        },
        {
          "output_type": "stream",
          "name": "stdout",
          "text": [
            "Test Accuracy: 0.7056\n",
            "\n",
            "Epoch: 13/30\n"
          ]
        },
        {
          "output_type": "stream",
          "name": "stderr",
          "text": [
            "100%|██████████| 391/391 [01:08<00:00,  5.74batch/s, Loss: 1.6909]\n"
          ]
        },
        {
          "output_type": "stream",
          "name": "stdout",
          "text": [
            "Test Accuracy: 0.7056\n",
            "\n",
            "Epoch: 14/30\n"
          ]
        },
        {
          "output_type": "stream",
          "name": "stderr",
          "text": [
            "100%|██████████| 391/391 [01:08<00:00,  5.73batch/s, Loss: 1.6904]\n"
          ]
        },
        {
          "output_type": "stream",
          "name": "stdout",
          "text": [
            "Test Accuracy: 0.7046\n",
            "\n",
            "Epoch: 15/30\n"
          ]
        },
        {
          "output_type": "stream",
          "name": "stderr",
          "text": [
            "100%|██████████| 391/391 [01:08<00:00,  5.73batch/s, Loss: 1.6898]\n"
          ]
        },
        {
          "output_type": "stream",
          "name": "stdout",
          "text": [
            "Test Accuracy: 0.7058\n",
            "\n",
            "Epoch: 16/30\n"
          ]
        },
        {
          "output_type": "stream",
          "name": "stderr",
          "text": [
            "100%|██████████| 391/391 [01:08<00:00,  5.74batch/s, Loss: 1.6897]\n"
          ]
        },
        {
          "output_type": "stream",
          "name": "stdout",
          "text": [
            "Test Accuracy: 0.7045\n",
            "\n",
            "Epoch: 17/30\n"
          ]
        },
        {
          "output_type": "stream",
          "name": "stderr",
          "text": [
            "100%|██████████| 391/391 [01:08<00:00,  5.74batch/s, Loss: 1.6894]\n"
          ]
        },
        {
          "output_type": "stream",
          "name": "stdout",
          "text": [
            "Test Accuracy: 0.7044\n",
            "\n",
            "Epoch: 18/30\n"
          ]
        },
        {
          "output_type": "stream",
          "name": "stderr",
          "text": [
            "100%|██████████| 391/391 [01:08<00:00,  5.73batch/s, Loss: 1.6889]\n"
          ]
        },
        {
          "output_type": "stream",
          "name": "stdout",
          "text": [
            "Test Accuracy: 0.7064\n",
            "\n",
            "Epoch: 19/30\n"
          ]
        },
        {
          "output_type": "stream",
          "name": "stderr",
          "text": [
            "  2%|▏         | 6/391 [00:01<01:24,  4.58batch/s, Loss: 1.6760]\n"
          ]
        },
        {
          "output_type": "error",
          "ename": "KeyboardInterrupt",
          "evalue": "",
          "traceback": [
            "\u001b[0;31m---------------------------------------------------------------------------\u001b[0m",
            "\u001b[0;31mKeyboardInterrupt\u001b[0m                         Traceback (most recent call last)",
            "\u001b[0;32m<ipython-input-53-f0a0f9d0ee15>\u001b[0m in \u001b[0;36m<cell line: 1>\u001b[0;34m()\u001b[0m\n\u001b[0;32m----> 1\u001b[0;31m \u001b[0mtrain_model\u001b[0m\u001b[0;34m(\u001b[0m\u001b[0mmodel_3b_5_250\u001b[0m\u001b[0;34m,\u001b[0m \u001b[0mtrain_loader\u001b[0m\u001b[0;34m,\u001b[0m \u001b[0mtest_loader\u001b[0m\u001b[0;34m,\u001b[0m \u001b[0mloss_sn\u001b[0m\u001b[0;34m,\u001b[0m \u001b[0;36m30\u001b[0m\u001b[0;34m,\u001b[0m \u001b[0moptimizer_sg_001\u001b[0m\u001b[0;34m,\u001b[0m \u001b[0mdevice\u001b[0m\u001b[0;34m)\u001b[0m \u001b[0;31m# 0.0001 - 12 epochs don, 69.41%\u001b[0m\u001b[0;34m\u001b[0m\u001b[0;34m\u001b[0m\u001b[0m\n\u001b[0m",
            "\u001b[0;32m<ipython-input-44-665e1306175f>\u001b[0m in \u001b[0;36mtrain_model\u001b[0;34m(model, train_loader, test_loader, loss_fn, num_epochs, optimizer, device)\u001b[0m\n\u001b[1;32m     28\u001b[0m         \u001b[0moptimizer\u001b[0m\u001b[0;34m.\u001b[0m\u001b[0mstep\u001b[0m\u001b[0;34m(\u001b[0m\u001b[0;34m)\u001b[0m\u001b[0;34m\u001b[0m\u001b[0;34m\u001b[0m\u001b[0m\n\u001b[1;32m     29\u001b[0m \u001b[0;34m\u001b[0m\u001b[0m\n\u001b[0;32m---> 30\u001b[0;31m         \u001b[0mtrain_loss\u001b[0m \u001b[0;34m+=\u001b[0m \u001b[0mloss\u001b[0m\u001b[0;34m.\u001b[0m\u001b[0mitem\u001b[0m\u001b[0;34m(\u001b[0m\u001b[0;34m)\u001b[0m\u001b[0;34m\u001b[0m\u001b[0;34m\u001b[0m\u001b[0m\n\u001b[0m\u001b[1;32m     31\u001b[0m         \u001b[0mnum_batches\u001b[0m \u001b[0;34m+=\u001b[0m \u001b[0;36m1\u001b[0m\u001b[0;34m\u001b[0m\u001b[0;34m\u001b[0m\u001b[0m\n\u001b[1;32m     32\u001b[0m \u001b[0;34m\u001b[0m\u001b[0m\n",
            "\u001b[0;31mKeyboardInterrupt\u001b[0m: "
          ]
        }
      ]
    },
    {
      "cell_type": "code",
      "source": [
        "train_model(model_3b_5_250, train_loader, test_loader, loss_sn, num_epochs_30, optimizer_adam_01, device) # Fail"
      ],
      "metadata": {
        "id": "iwHm5knNR2cb"
      },
      "id": "iwHm5knNR2cb",
      "execution_count": null,
      "outputs": []
    },
    {
      "cell_type": "code",
      "source": [
        "torch.save(model_3b_5_250.state_dict(), \"final_model_3b_5_250.pth\")"
      ],
      "metadata": {
        "id": "Hn3NayS7QH9w"
      },
      "id": "Hn3NayS7QH9w",
      "execution_count": null,
      "outputs": []
    },
    {
      "cell_type": "code",
      "source": [
        "# Later, to retrain the model:\n",
        "retrain_model = SE_NET_reloaded()  # Create a new instance of your model architecture\n",
        "\n",
        "# Load the saved state dictionary (weights and architecture)\n",
        "retrain_model.load_state_dict(torch.load(\"model.pth\"))\n",
        "\n",
        "# Now you can use 'retrain_model' for further training with additional data"
      ],
      "metadata": {
        "id": "J8CkD_RIRd07"
      },
      "id": "J8CkD_RIRd07",
      "execution_count": null,
      "outputs": []
    },
    {
      "cell_type": "markdown",
      "source": [
        "## model_3b_10_250"
      ],
      "metadata": {
        "id": "9eH0IfEsTUWy"
      },
      "id": "9eH0IfEsTUWy"
    },
    {
      "cell_type": "code",
      "source": [
        "model_3b_10_250 = SE_NET(block_configs=[10, 10, 10], channel_configs=[50, 100, 250])"
      ],
      "metadata": {
        "id": "M8yEG3AiTTYH"
      },
      "execution_count": null,
      "outputs": [],
      "id": "M8yEG3AiTTYH"
    },
    {
      "cell_type": "code",
      "source": [
        "# Adam\n",
        "optimizer_adam_001 = torch.optim.Adam(model_3b_10_250.parameters(), lr=lr_001)\n",
        "optimizer_adam_01 = torch.optim.Adam(model_3b_10_250.parameters(), lr=lr_01)"
      ],
      "metadata": {
        "id": "CGlp_R2CTTYQ"
      },
      "execution_count": null,
      "outputs": [],
      "id": "CGlp_R2CTTYQ"
    },
    {
      "cell_type": "code",
      "source": [
        "train_model(model_3b_10_250, train_loader, test_loader, loss_sn, num_epochs_30, optimizer_adam_001, device) # It is ok 52.56%"
      ],
      "metadata": {
        "colab": {
          "base_uri": "https://localhost:8080/",
          "height": 1000
        },
        "id": "-L51Pf9hTTYQ",
        "outputId": "edc8612b-1836-4e38-b0a7-6fdf8a1457a4"
      },
      "execution_count": null,
      "outputs": [
        {
          "output_type": "stream",
          "name": "stdout",
          "text": [
            "\n",
            "Epoch: 1/30\n"
          ]
        },
        {
          "output_type": "stream",
          "name": "stderr",
          "text": [
            "100%|██████████| 391/391 [02:13<00:00,  2.93batch/s, Loss: 2.2835]\n"
          ]
        },
        {
          "output_type": "stream",
          "name": "stdout",
          "text": [
            "Test Accuracy: 0.2234\n",
            "\n",
            "Epoch: 2/30\n"
          ]
        },
        {
          "output_type": "stream",
          "name": "stderr",
          "text": [
            "100%|██████████| 391/391 [02:13<00:00,  2.93batch/s, Loss: 2.2204]\n"
          ]
        },
        {
          "output_type": "stream",
          "name": "stdout",
          "text": [
            "Test Accuracy: 0.2281\n",
            "\n",
            "Epoch: 3/30\n"
          ]
        },
        {
          "output_type": "stream",
          "name": "stderr",
          "text": [
            "100%|██████████| 391/391 [02:13<00:00,  2.93batch/s, Loss: 2.2093]\n"
          ]
        },
        {
          "output_type": "stream",
          "name": "stdout",
          "text": [
            "Test Accuracy: 0.2389\n",
            "\n",
            "Epoch: 4/30\n"
          ]
        },
        {
          "output_type": "stream",
          "name": "stderr",
          "text": [
            "100%|██████████| 391/391 [02:13<00:00,  2.93batch/s, Loss: 2.1935]\n"
          ]
        },
        {
          "output_type": "stream",
          "name": "stdout",
          "text": [
            "Test Accuracy: 0.2887\n",
            "\n",
            "Epoch: 5/30\n"
          ]
        },
        {
          "output_type": "stream",
          "name": "stderr",
          "text": [
            "100%|██████████| 391/391 [02:13<00:00,  2.93batch/s, Loss: 2.1666]\n"
          ]
        },
        {
          "output_type": "stream",
          "name": "stdout",
          "text": [
            "Test Accuracy: 0.2998\n",
            "\n",
            "Epoch: 6/30\n"
          ]
        },
        {
          "output_type": "stream",
          "name": "stderr",
          "text": [
            "100%|██████████| 391/391 [02:13<00:00,  2.93batch/s, Loss: 2.1359]\n"
          ]
        },
        {
          "output_type": "stream",
          "name": "stdout",
          "text": [
            "Test Accuracy: 0.3386\n",
            "\n",
            "Epoch: 7/30\n"
          ]
        },
        {
          "output_type": "stream",
          "name": "stderr",
          "text": [
            "100%|██████████| 391/391 [02:13<00:00,  2.93batch/s, Loss: 2.1107]\n"
          ]
        },
        {
          "output_type": "stream",
          "name": "stdout",
          "text": [
            "Test Accuracy: 0.3703\n",
            "\n",
            "Epoch: 8/30\n"
          ]
        },
        {
          "output_type": "stream",
          "name": "stderr",
          "text": [
            "100%|██████████| 391/391 [02:13<00:00,  2.93batch/s, Loss: 2.0886]\n"
          ]
        },
        {
          "output_type": "stream",
          "name": "stdout",
          "text": [
            "Test Accuracy: 0.3871\n",
            "\n",
            "Epoch: 9/30\n"
          ]
        },
        {
          "output_type": "stream",
          "name": "stderr",
          "text": [
            "100%|██████████| 391/391 [02:13<00:00,  2.93batch/s, Loss: 2.0659]\n"
          ]
        },
        {
          "output_type": "stream",
          "name": "stdout",
          "text": [
            "Test Accuracy: 0.4124\n",
            "\n",
            "Epoch: 10/30\n"
          ]
        },
        {
          "output_type": "stream",
          "name": "stderr",
          "text": [
            "100%|██████████| 391/391 [02:13<00:00,  2.93batch/s, Loss: 2.0556]\n"
          ]
        },
        {
          "output_type": "stream",
          "name": "stdout",
          "text": [
            "Test Accuracy: 0.4091\n",
            "\n",
            "Epoch: 11/30\n"
          ]
        },
        {
          "output_type": "stream",
          "name": "stderr",
          "text": [
            "100%|██████████| 391/391 [02:13<00:00,  2.93batch/s, Loss: 2.0414]\n"
          ]
        },
        {
          "output_type": "stream",
          "name": "stdout",
          "text": [
            "Test Accuracy: 0.4135\n",
            "\n",
            "Epoch: 12/30\n"
          ]
        },
        {
          "output_type": "stream",
          "name": "stderr",
          "text": [
            "100%|██████████| 391/391 [02:13<00:00,  2.93batch/s, Loss: 2.0317]\n"
          ]
        },
        {
          "output_type": "stream",
          "name": "stdout",
          "text": [
            "Test Accuracy: 0.4253\n",
            "\n",
            "Epoch: 13/30\n"
          ]
        },
        {
          "output_type": "stream",
          "name": "stderr",
          "text": [
            "100%|██████████| 391/391 [02:13<00:00,  2.93batch/s, Loss: 2.0226]\n"
          ]
        },
        {
          "output_type": "stream",
          "name": "stdout",
          "text": [
            "Test Accuracy: 0.4302\n",
            "\n",
            "Epoch: 14/30\n"
          ]
        },
        {
          "output_type": "stream",
          "name": "stderr",
          "text": [
            "100%|██████████| 391/391 [02:13<00:00,  2.93batch/s, Loss: 2.0163]\n"
          ]
        },
        {
          "output_type": "stream",
          "name": "stdout",
          "text": [
            "Test Accuracy: 0.4466\n",
            "\n",
            "Epoch: 15/30\n"
          ]
        },
        {
          "output_type": "stream",
          "name": "stderr",
          "text": [
            "100%|██████████| 391/391 [02:13<00:00,  2.93batch/s, Loss: 2.0095]\n"
          ]
        },
        {
          "output_type": "stream",
          "name": "stdout",
          "text": [
            "Test Accuracy: 0.4478\n",
            "\n",
            "Epoch: 16/30\n"
          ]
        },
        {
          "output_type": "stream",
          "name": "stderr",
          "text": [
            "100%|██████████| 391/391 [02:13<00:00,  2.93batch/s, Loss: 2.0026]\n"
          ]
        },
        {
          "output_type": "stream",
          "name": "stdout",
          "text": [
            "Test Accuracy: 0.4591\n",
            "\n",
            "Epoch: 17/30\n"
          ]
        },
        {
          "output_type": "stream",
          "name": "stderr",
          "text": [
            "100%|██████████| 391/391 [02:13<00:00,  2.93batch/s, Loss: 1.9927]\n"
          ]
        },
        {
          "output_type": "stream",
          "name": "stdout",
          "text": [
            "Test Accuracy: 0.4572\n",
            "\n",
            "Epoch: 18/30\n"
          ]
        },
        {
          "output_type": "stream",
          "name": "stderr",
          "text": [
            "100%|██████████| 391/391 [02:13<00:00,  2.94batch/s, Loss: 1.9802]\n"
          ]
        },
        {
          "output_type": "stream",
          "name": "stdout",
          "text": [
            "Test Accuracy: 0.4440\n",
            "\n",
            "Epoch: 19/30\n"
          ]
        },
        {
          "output_type": "stream",
          "name": "stderr",
          "text": [
            "100%|██████████| 391/391 [02:13<00:00,  2.94batch/s, Loss: 1.9754]\n"
          ]
        },
        {
          "output_type": "stream",
          "name": "stdout",
          "text": [
            "Test Accuracy: 0.4583\n",
            "\n",
            "Epoch: 20/30\n"
          ]
        },
        {
          "output_type": "stream",
          "name": "stderr",
          "text": [
            "100%|██████████| 391/391 [02:13<00:00,  2.93batch/s, Loss: 1.9679]\n"
          ]
        },
        {
          "output_type": "stream",
          "name": "stdout",
          "text": [
            "Test Accuracy: 0.5051\n",
            "\n",
            "Epoch: 21/30\n"
          ]
        },
        {
          "output_type": "stream",
          "name": "stderr",
          "text": [
            "100%|██████████| 391/391 [02:13<00:00,  2.94batch/s, Loss: 1.9631]\n"
          ]
        },
        {
          "output_type": "stream",
          "name": "stdout",
          "text": [
            "Test Accuracy: 0.5037\n",
            "\n",
            "Epoch: 22/30\n"
          ]
        },
        {
          "output_type": "stream",
          "name": "stderr",
          "text": [
            "100%|██████████| 391/391 [02:13<00:00,  2.94batch/s, Loss: 1.9540]\n"
          ]
        },
        {
          "output_type": "stream",
          "name": "stdout",
          "text": [
            "Test Accuracy: 0.4377\n",
            "\n",
            "Epoch: 23/30\n"
          ]
        },
        {
          "output_type": "stream",
          "name": "stderr",
          "text": [
            "100%|██████████| 391/391 [02:12<00:00,  2.94batch/s, Loss: 1.9479]\n"
          ]
        },
        {
          "output_type": "stream",
          "name": "stdout",
          "text": [
            "Test Accuracy: 0.5003\n",
            "\n",
            "Epoch: 24/30\n"
          ]
        },
        {
          "output_type": "stream",
          "name": "stderr",
          "text": [
            "100%|██████████| 391/391 [02:13<00:00,  2.94batch/s, Loss: 1.9452]\n"
          ]
        },
        {
          "output_type": "stream",
          "name": "stdout",
          "text": [
            "Test Accuracy: 0.4871\n",
            "\n",
            "Epoch: 25/30\n"
          ]
        },
        {
          "output_type": "stream",
          "name": "stderr",
          "text": [
            "100%|██████████| 391/391 [02:13<00:00,  2.94batch/s, Loss: 1.9383]\n"
          ]
        },
        {
          "output_type": "stream",
          "name": "stdout",
          "text": [
            "Test Accuracy: 0.5059\n",
            "\n",
            "Epoch: 26/30\n"
          ]
        },
        {
          "output_type": "stream",
          "name": "stderr",
          "text": [
            "100%|██████████| 391/391 [02:13<00:00,  2.94batch/s, Loss: 1.9339]\n"
          ]
        },
        {
          "output_type": "stream",
          "name": "stdout",
          "text": [
            "Test Accuracy: 0.5256\n",
            "\n",
            "Epoch: 27/30\n"
          ]
        },
        {
          "output_type": "stream",
          "name": "stderr",
          "text": [
            " 44%|████▍     | 173/391 [00:59<01:14,  2.92batch/s, Loss: 1.9309]\n"
          ]
        },
        {
          "output_type": "error",
          "ename": "KeyboardInterrupt",
          "evalue": "",
          "traceback": [
            "\u001b[0;31m---------------------------------------------------------------------------\u001b[0m",
            "\u001b[0;31mKeyboardInterrupt\u001b[0m                         Traceback (most recent call last)",
            "\u001b[0;32m<ipython-input-42-72df822774f1>\u001b[0m in \u001b[0;36m<cell line: 1>\u001b[0;34m()\u001b[0m\n\u001b[0;32m----> 1\u001b[0;31m \u001b[0mtrain_model\u001b[0m\u001b[0;34m(\u001b[0m\u001b[0mmodel_3b_10_250\u001b[0m\u001b[0;34m,\u001b[0m \u001b[0mtrain_loader\u001b[0m\u001b[0;34m,\u001b[0m \u001b[0mtest_loader\u001b[0m\u001b[0;34m,\u001b[0m \u001b[0mloss_sn\u001b[0m\u001b[0;34m,\u001b[0m \u001b[0mnum_epochs_30\u001b[0m\u001b[0;34m,\u001b[0m \u001b[0moptimizer_adam_001\u001b[0m\u001b[0;34m,\u001b[0m \u001b[0mdevice\u001b[0m\u001b[0;34m)\u001b[0m \u001b[0;31m#\u001b[0m\u001b[0;34m\u001b[0m\u001b[0;34m\u001b[0m\u001b[0m\n\u001b[0m",
            "\u001b[0;32m<ipython-input-6-17be412d2823>\u001b[0m in \u001b[0;36mtrain_model\u001b[0;34m(model, train_loader, test_loader, loss_fn, num_epochs, optimizer, device)\u001b[0m\n\u001b[1;32m     28\u001b[0m         \u001b[0moptimizer\u001b[0m\u001b[0;34m.\u001b[0m\u001b[0mstep\u001b[0m\u001b[0;34m(\u001b[0m\u001b[0;34m)\u001b[0m\u001b[0;34m\u001b[0m\u001b[0;34m\u001b[0m\u001b[0m\n\u001b[1;32m     29\u001b[0m \u001b[0;34m\u001b[0m\u001b[0m\n\u001b[0;32m---> 30\u001b[0;31m         \u001b[0mtrain_loss\u001b[0m \u001b[0;34m+=\u001b[0m \u001b[0mloss\u001b[0m\u001b[0;34m.\u001b[0m\u001b[0mitem\u001b[0m\u001b[0;34m(\u001b[0m\u001b[0;34m)\u001b[0m\u001b[0;34m\u001b[0m\u001b[0;34m\u001b[0m\u001b[0m\n\u001b[0m\u001b[1;32m     31\u001b[0m         \u001b[0mnum_batches\u001b[0m \u001b[0;34m+=\u001b[0m \u001b[0;36m1\u001b[0m\u001b[0;34m\u001b[0m\u001b[0;34m\u001b[0m\u001b[0m\n\u001b[1;32m     32\u001b[0m \u001b[0;34m\u001b[0m\u001b[0m\n",
            "\u001b[0;31mKeyboardInterrupt\u001b[0m: "
          ]
        }
      ],
      "id": "-L51Pf9hTTYQ"
    },
    {
      "cell_type": "code",
      "source": [
        "train_model(model_3b_10_250, train_loader, test_loader, loss_sn, num_epochs_30, optimizer_adam_01, device) # FAIL"
      ],
      "metadata": {
        "id": "2D7MF0bzTTYQ"
      },
      "execution_count": null,
      "outputs": [],
      "id": "2D7MF0bzTTYQ"
    },
    {
      "cell_type": "code",
      "source": [],
      "metadata": {
        "id": "VFkwkgaLbZId"
      },
      "id": "VFkwkgaLbZId",
      "execution_count": null,
      "outputs": []
    }
  ],
  "metadata": {
    "kernelspec": {
      "display_name": "Python 3",
      "name": "python3"
    },
    "language_info": {
      "codemirror_mode": {
        "name": "ipython",
        "version": 2
      },
      "file_extension": ".py",
      "mimetype": "text/x-python",
      "name": "python",
      "nbconvert_exporter": "python",
      "pygments_lexer": "ipython2",
      "version": "2.7.6"
    },
    "colab": {
      "provenance": [],
      "gpuType": "L4"
    },
    "accelerator": "GPU"
  },
  "nbformat": 4,
  "nbformat_minor": 5
}